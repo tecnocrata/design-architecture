{
 "cells": [
  {
   "cell_type": "markdown",
   "id": "1fbc9cab",
   "metadata": {},
   "source": [
    "# Dependency Inversion Principle (DIP)\n",
    "\n",
    "> “High‑level modules should not depend on low‑level modules. Both should depend on abstractions.” – Robert C. Martin"
   ]
  },
  {
   "cell_type": "markdown",
   "id": "9dedeb3c",
   "metadata": {},
   "source": [
    "## 1. Concept\n",
    "* **DIP** is not just Dependency Injection (DI). It inverts the direction of dependency toward **abstractions**.\n",
    "* High‑level policies (business rules) do not know details of low‑level mechanics (DB, file system, HTTP)."
   ]
  },
  {
   "cell_type": "markdown",
   "id": "be7c0c3c",
   "metadata": {},
   "source": [
    "### IoC vs. DI vs. Containers\n",
    "| Term | Essence | Relation to DIP |\n",
    "|------|---------|-----------------|\n",
    "| Inversion of Control (IoC) | Framework owns the program flow. | DIP realises IoC for dependencies. |\n",
    "| Dependency Injection (DI) | Passing collaborators instead of creating them. | Main tactic implementing DIP. |\n",
    "| Dependency Container | Tool that automates DI wiring. | Convenience ‑ optional for DIP. |"
   ]
  },
  {
   "cell_type": "markdown",
   "id": "7bdcb647",
   "metadata": {},
   "source": [
    "## 2. Problematic design without DIP"
   ]
  },
  {
   "cell_type": "code",
   "execution_count": null,
   "id": "10fd8d3b",
   "metadata": {
    "language": "typescript"
   },
   "outputs": [
    {
     "name": "stdout",
     "output_type": "stream",
     "text": [
      "INSERT INTO users ... { id: 'm9ozg1n8-lafrk8', name: 'Alice' }\n"
     ]
    }
   ],
   "source": [
    "function generateId(): string {\n",
    "  return `${Date.now().toString(36)}-${Math.random().toString(36).slice(2, 8)}`;\n",
    "}\n",
    "\n",
    "// BAD: High‑level service hard‑codes concrete repo\n",
    "class SqlUserRepository {\n",
    "  save(user: {id: string; name: string}) {\n",
    "    console.log(\"INSERT INTO users ...\", user);\n",
    "  }\n",
    "}\n",
    "\n",
    "class UserRegistrationService {\n",
    "  private repo = new SqlUserRepository();  // concrete dependency\n",
    "\n",
    "  register(name: string) {\n",
    "    const user = {id: generateId(), name};\n",
    "    this.repo.save(user);\n",
    "  }\n",
    "}\n",
    "\n",
    "new UserRegistrationService().register(\"Alice\");"
   ]
  },
  {
   "cell_type": "markdown",
   "id": "52d4916f",
   "metadata": {},
   "source": [
    "### Issues\n",
    "* Tightly coupled to SQL API – cannot switch storage without editing service.\n",
    "* Hard to unit‑test: needs DB access.\n",
    "* Violates Open/Closed Principle."
   ]
  },
  {
   "cell_type": "markdown",
   "id": "e7d536fd",
   "metadata": {},
   "source": [
    "## 3. Refactor applying DIP"
   ]
  },
  {
   "cell_type": "code",
   "execution_count": null,
   "id": "2d4ee963",
   "metadata": {
    "language": "typescript"
   },
   "outputs": [
    {
     "name": "stdout",
     "output_type": "stream",
     "text": [
      "SQL save { id: 'm9ozhtri-ua6fg0', name: 'Bob' }\n"
     ]
    }
   ],
   "source": [
    "function generateId(): string {\n",
    "  return `${Date.now().toString(36)}-${Math.random().toString(36).slice(2, 8)}`;\n",
    "}\n",
    "\n",
    "// 1️⃣ Abstraction\n",
    "interface UserRepository {\n",
    "  save(user: {id: string; name: string}): void;\n",
    "}\n",
    "\n",
    "// 2️⃣ Concrete implementations\n",
    "class SqlUserRepository implements UserRepository {\n",
    "  save(user: {id: string; name: string}) {\n",
    "    console.log(\"SQL save\", user);\n",
    "  }\n",
    "}\n",
    "\n",
    "class InMemoryUserRepository implements UserRepository {\n",
    "  private data: any[] = [];\n",
    "  save(user: {id: string; name: string}) {\n",
    "    this.data.push(user);\n",
    "  }\n",
    "}\n",
    "\n",
    "// 3️⃣ High‑level module depends on abstraction\n",
    "class UserRegistrationService {\n",
    "  constructor(private repo: UserRepository) {}\n",
    "\n",
    "  register(name: string) {\n",
    "    const user = {id: generateId(), name};\n",
    "    this.repo.save(user);\n",
    "  }\n",
    "}\n",
    "\n",
    "// 4️⃣ Composition root wiring\n",
    "const prodService = new UserRegistrationService(new SqlUserRepository());\n",
    "const testService = new UserRegistrationService(new InMemoryUserRepository());\n",
    "\n",
    "prodService.register(\"Bob\");\n",
    "testService.register(\"Test\");"
   ]
  },
  {
   "cell_type": "markdown",
   "id": "938aceda",
   "metadata": {},
   "source": [
    "### Benefits\n",
    "* Swap implementations with no code changes in high‑level module.\n",
    "* Inject fakes/mocks for fast tests.\n",
    "* Clear boundaries between layers."
   ]
  },
  {
   "cell_type": "markdown",
   "id": "529349ea",
   "metadata": {},
   "source": [
    "## 4. Trade‑offs\n",
    "* More abstractions & wiring.\n",
    "* Need a composition root or container.\n",
    "* Poorly designed abstractions can leak details."
   ]
  },
  {
   "cell_type": "markdown",
   "id": "ef0ecaa6",
   "metadata": {},
   "source": [
    "## 5. Spotting DIP violations – quick checklist\n",
    "1. High‑level code constructs low‑level classes with `new`.\n",
    "2. Business logic imports DB/HTTP libraries directly.\n",
    "3. Tests require infrastructure services running.\n",
    "4. Layer boundaries are crossed by concrete types."
   ]
  },
  {
   "cell_type": "markdown",
   "id": "f281eaa7",
   "metadata": {},
   "source": [
    "## 6. Related GoF patterns\n",
    "* **Abstract Factory / Factory Method** – create objects without binding to concretes.\n",
    "* **Observer** – publishers depend on subscriber interfaces.\n",
    "* **Strategy** – algorithms depend on abstraction, client swaps them."
   ]
  },
  {
   "cell_type": "markdown",
   "id": "272aa4f5",
   "metadata": {},
   "source": [
    "## 7. References\n",
    "* Robert C. Martin – *Agile Software Development* (2002)\n",
    "* https://principles.dev/#dip"
   ]
  }
 ],
 "metadata": {
  "kernelspec": {
   "display_name": "TypeScript",
   "language": "typescript",
   "name": "typescript"
  }
 },
 "nbformat": 4,
 "nbformat_minor": 5
}
