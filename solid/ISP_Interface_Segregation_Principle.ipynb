{
 "cells": [
  {
   "cell_type": "markdown",
   "id": "26527e37",
   "metadata": {},
   "source": [
    "# Interface Segregation Principle (ISP)\n",
    "\n",
    "> “Clients should not be forced to depend on interfaces they do not use.” – Robert C. Martin"
   ]
  },
  {
   "cell_type": "markdown",
   "id": "8b7571ea",
   "metadata": {},
   "source": [
    "## 1. Concept\n",
    "* Each **interface** is a *contract oriented to a specific client need*.\n",
    "* When a class implements an interface it should use **all** its members; if it ignores half of them, the interface is *too fat*.\n",
    "* ISP complements **Liskov Substitution Principle**: fat interfaces often push sub‑classes to violate contracts (throwing, returning `null`). By splitting contracts, we preserve substitutability."
   ]
  },
  {
   "cell_type": "markdown",
   "id": "d07d2d93",
   "metadata": {},
   "source": [
    "### Relationship with LSP & OCP\n",
    "* **LSP** demands that every subtype fulfils its parent’s contract. Fat interfaces make that hard; ISP trims contracts so sub‑types can honour them.\n",
    "* Smaller, cohesive interfaces also help **OCP** because new behaviour can be added via new interfaces instead of modifying old ones."
   ]
  },
  {
   "cell_type": "markdown",
   "id": "f590bfc4",
   "metadata": {},
   "source": [
    "## 2. Problematic design without ISP"
   ]
  },
  {
   "cell_type": "code",
   "execution_count": 1,
   "id": "9f72f9af",
   "metadata": {
    "language": "typescript"
   },
   "outputs": [
    {
     "name": "stdout",
     "output_type": "stream",
     "text": [
      "Printing: report.pdf\n"
     ]
    }
   ],
   "source": [
    "// BAD: Fat interface - simple devices must implement unused members\n",
    "interface MultifunctionDevice {\n",
    "  print(doc: string): void;\n",
    "  scan(doc: string): void;\n",
    "  fax(doc: string): void;\n",
    "}\n",
    "\n",
    "class OldFashionedPrinter implements MultifunctionDevice {\n",
    "  print(doc: string): void {\n",
    "    console.log(`Printing: ${doc}`);\n",
    "  }\n",
    "  scan(doc: string): void {\n",
    "    // Device has no scanner → LSP violation\n",
    "    throw new Error(\"Scan not supported\");\n",
    "  }\n",
    "  fax(doc: string): void {\n",
    "    // Device has no fax → LSP violation\n",
    "    throw new Error(\"Fax not supported\");\n",
    "  }\n",
    "}\n",
    "\n",
    "// Client interested only in printing\n",
    "function printDocument(device: MultifunctionDevice, doc: string) {\n",
    "  device.print(doc);\n",
    "}\n",
    "\n",
    "const legacy = new OldFashionedPrinter();\n",
    "printDocument(legacy, \"report.pdf\");   // works but device still contains dead methods"
   ]
  },
  {
   "cell_type": "markdown",
   "id": "778af478",
   "metadata": {},
   "source": [
    "### Issues\n",
    "1. **Unused methods** → wasted implementation, risk of runtime exceptions.\n",
    "2. **Violates LSP** – sub‑classes throw errors, tightening pre‑conditions.\n",
    "3. Leads to brittle code; changing interface affects many unrelated classes."
   ]
  },
  {
   "cell_type": "markdown",
   "id": "a89e083b",
   "metadata": {},
   "source": [
    "## 3. Refactor applying ISP – split contracts"
   ]
  },
  {
   "cell_type": "code",
   "execution_count": 2,
   "id": "13fa3d46",
   "metadata": {
    "language": "typescript"
   },
   "outputs": [
    {
     "name": "stdout",
     "output_type": "stream",
     "text": [
      "Printing: cv.pdf\n",
      "AIO printing contract.pdf\n"
     ]
    }
   ],
   "source": [
    "// GOOD: Separate smaller, client‑specific interfaces\n",
    "interface Printer {\n",
    "  print(doc: string): void;\n",
    "}\n",
    "\n",
    "interface Scanner {\n",
    "  scan(doc: string): void;\n",
    "}\n",
    "\n",
    "interface Fax {\n",
    "  fax(doc: string): void;\n",
    "}\n",
    "\n",
    "// Concrete devices pick only the abilities they truly support\n",
    "class BasicPrinter implements Printer {\n",
    "  print(doc: string) {\n",
    "    console.log(`Printing: ${doc}`);\n",
    "  }\n",
    "}\n",
    "\n",
    "class AllInOne implements Printer, Scanner, Fax {\n",
    "  print(doc: string) { console.log(`AIO printing ${doc}`); }\n",
    "  scan(doc: string) { console.log(`AIO scanning ${doc}`); }\n",
    "  fax(doc: string) { console.log(`AIO faxing ${doc}`); }\n",
    "}\n",
    "\n",
    "// Client code depends only on the relevant capability\n",
    "function printDocs(device: Printer, docs: string[]) {\n",
    "  docs.forEach(d => device.print(d));\n",
    "}\n",
    "\n",
    "const homePrinter = new BasicPrinter();\n",
    "const officeAIO = new AllInOne();\n",
    "\n",
    "printDocs(homePrinter, [\"cv.pdf\"]);\n",
    "printDocs(officeAIO, [\"contract.pdf\"]);"
   ]
  },
  {
   "cell_type": "markdown",
   "id": "d068d419",
   "metadata": {},
   "source": [
    "### Benefits achieved\n",
    "* **Cohesion** – each interface models a single capability.\n",
    "* **Substitution safe** – no method ever throws `NotImplemented`.\n",
    "* **Flexibility** – mix capabilities through composition instead of monolithic inheritance."
   ]
  },
  {
   "cell_type": "markdown",
   "id": "378cfc11",
   "metadata": {},
   "source": [
    "## 4. Trade‑offs & Constraints\n",
    "* Potentially **more interfaces** to manage.\n",
    "* Over‑segmentation can clutter autocompletion for developers if granularity is excessive.\n",
    "* Requires thoughtful domain analysis to find the right boundaries."
   ]
  },
  {
   "cell_type": "markdown",
   "id": "2d676ed0",
   "metadata": {},
   "source": [
    "## 5. Spotting ISP violations – quick checklist\n",
    "1. Classes implement interfaces but leave methods empty or throw `Error`.\n",
    "2. Interface changes cause *many* unrelated classes to recompile.\n",
    "3. Clients pass `null` for parameters in a method they don't need.\n",
    "4. Presence of comments like `// not used by X` next to interface members."
   ]
  },
  {
   "cell_type": "markdown",
   "id": "591f7255",
   "metadata": {},
   "source": [
    "## 6. Related GoF patterns\n",
    "* **Facade** – group multiple small interfaces under a simplified facade for convenience.\n",
    "* **Adapter** – adapt a wide interface to a narrow one expected by the client.\n",
    "* **Decorator** – add behaviour without bloating the core interface."
   ]
  },
  {
   "cell_type": "markdown",
   "id": "3b9e0b17",
   "metadata": {},
   "source": [
    "## 7. References\n",
    "* Robert C. Martin, *Agile Software Development: Principles, Patterns, and Practices* (2002)\n",
    "* Barbara Liskov, *A Behavioral Notion of Subtyping* (1994)\n",
    "* https://principles.dev/#isp"
   ]
  }
 ],
 "metadata": {
  "kernelspec": {
   "display_name": "TypeScript",
   "language": "typescript",
   "name": "tslab"
  },
  "language_info": {
   "codemirror_mode": {
    "mode": "typescript",
    "name": "javascript",
    "typescript": true
   },
   "file_extension": ".ts",
   "mimetype": "text/typescript",
   "name": "typescript",
   "version": "3.7.2"
  }
 },
 "nbformat": 4,
 "nbformat_minor": 5
}
