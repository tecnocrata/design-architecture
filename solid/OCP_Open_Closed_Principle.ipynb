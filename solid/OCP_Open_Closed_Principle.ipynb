{
 "cells": [
  {
   "cell_type": "markdown",
   "id": "59c92668",
   "metadata": {},
   "source": [
    "# Open / Closed Principle (OCP)\n",
    "\n",
    "> “Software entities (classes, modules, functions, etc.) should be **open for extension** but **closed for modification**.” – Bertrand Meyer"
   ]
  },
  {
   "cell_type": "markdown",
   "id": "4553ee61",
   "metadata": {},
   "source": [
    "## 1. Concept\n",
    "* **Open for extension** – we can add new behaviour without touching existing source code.\n",
    "* **Closed for modification** – once a class is tested & released, its source stays intact.\n",
    "* This applies to monoliths, **services**, and **microservices** alike; evolve through extension."
   ]
  },
  {
   "cell_type": "markdown",
   "id": "370fe24a",
   "metadata": {},
   "source": []
  },
  {
   "cell_type": "markdown",
   "id": "7e64ff3b",
   "metadata": {},
   "source": []
  },
  {
   "cell_type": "markdown",
   "id": "7498318d",
   "metadata": {},
   "source": [
    "### Why it matters\n",
    "* Minimises *ripple effects* when new requirements arrive.\n",
    "* Preserves backward compatibility for callers.\n",
    "* Encourages using **interfaces**, **abstract classes**, and GoF patterns (Strategy, Decorator, Factory, …)."
   ]
  },
  {
   "cell_type": "markdown",
   "id": "3054c507",
   "metadata": {},
   "source": [
    "## 2. Problematic design without OCP"
   ]
  },
  {
   "cell_type": "code",
   "execution_count": 1,
   "id": "ec3025f3",
   "metadata": {
    "language": "typescript"
   },
   "outputs": [
    {
     "name": "stdout",
     "output_type": "stream",
     "text": [
      "Processing $42 through credit card API\n"
     ]
    }
   ],
   "source": [
    "// BAD: PaymentProcessor must change for every new payment method\n",
    "enum PaymentType {\n",
    "  CreditCard = \"credit-card\",\n",
    "  PayPal = \"paypal\"\n",
    "  // Next month: ApplePay, Crypto, etc.\n",
    "}\n",
    "\n",
    "class PaymentProcessor {\n",
    "  process(amount: number, type: PaymentType) {\n",
    "    switch (type) {\n",
    "      case PaymentType.CreditCard:\n",
    "        console.log(`Processing $${amount} through credit card API`);\n",
    "        break;\n",
    "      case PaymentType.PayPal:\n",
    "        console.log(`Redirecting to PayPal for $${amount}`);\n",
    "        break;\n",
    "      default:\n",
    "        throw new Error(`Unsupported payment type: ${type}`);\n",
    "    }\n",
    "  }\n",
    "}\n",
    "\n",
    "const legacy = new PaymentProcessor();\n",
    "legacy.process(42, PaymentType.CreditCard);"
   ]
  },
  {
   "cell_type": "markdown",
   "id": "58003a20",
   "metadata": {},
   "source": [
    "### Issues\n",
    "1. **Modification required** in `PaymentProcessor` (and the enum) for every new gateway.\n",
    "2. **Switch explosion** – poor separation of concerns.\n",
    "3. **High risk** of breaking existing payments when editing branching logic."
   ]
  },
  {
   "cell_type": "markdown",
   "id": "0b44d606",
   "metadata": {},
   "source": [
    "## 3. Refactor applying OCP (Strategy pattern)"
   ]
  },
  {
   "cell_type": "code",
   "execution_count": 2,
   "id": "a8890d92",
   "metadata": {
    "language": "typescript"
   },
   "outputs": [
    {
     "name": "stdout",
     "output_type": "stream",
     "text": [
      "Paid $99 in BTC\n"
     ]
    }
   ],
   "source": [
    "// GOOD: add payment behaviours via new classes—no core modification\n",
    "interface PaymentMethod {\n",
    "  pay(amount: number): void;\n",
    "}\n",
    "\n",
    "class CreditCardPayment implements PaymentMethod {\n",
    "  pay(amount: number) {\n",
    "    console.log(`Charged $${amount} to credit‑card gateway`);\n",
    "  }\n",
    "}\n",
    "\n",
    "class PayPalPayment implements PaymentMethod {\n",
    "  pay(amount: number) {\n",
    "    console.log(`Charged $${amount} via PayPal REST`);\n",
    "  }\n",
    "}\n",
    "\n",
    "// Tomorrow's feature:\n",
    "class CryptoPayment implements PaymentMethod {\n",
    "  pay(amount: number) {\n",
    "    console.log(`Paid $${amount} in BTC`);\n",
    "  }\n",
    "}\n",
    "\n",
    "class PaymentProcessor {\n",
    "  constructor(private method: PaymentMethod) {}\n",
    "\n",
    "  checkout(amount: number) {\n",
    "    this.method.pay(amount);\n",
    "  }\n",
    "}\n",
    "\n",
    "// Client composes behaviour:\n",
    "const cryptoOrder = new PaymentProcessor(new CryptoPayment());\n",
    "cryptoOrder.checkout(99);"
   ]
  },
  {
   "cell_type": "markdown",
   "id": "3fd35607",
   "metadata": {},
   "source": [
    "### Benefits achieved\n",
    "* `PaymentProcessor` **remains unchanged** while capabilities grow.\n",
    "* New payment methods become **plug‑ins**, testable in isolation.\n",
    "* Consumers choose behaviour via dependency injection or factories."
   ]
  },
  {
   "cell_type": "markdown",
   "id": "e5a57e23",
   "metadata": {},
   "source": [
    "## 4. Trade‑offs\n",
    "* **More classes / wiring** – increased complexity in tiny projects.\n",
    "* Designing stable interfaces upfront is harder.\n",
    "* Over‑abstracting early may lead to unnecessary indirection."
   ]
  },
  {
   "cell_type": "markdown",
   "id": "4acf9e34",
   "metadata": {},
   "source": [
    "## 5. Spotting OCP violations – quick checklist\n",
    "1. Do you see `switch`/`if‑else` keyed by a type flag?\n",
    "2. Must you open old files whenever a new variation appears?\n",
    "3. Do stable unit‑tests break when unrelated functionality is added?"
   ]
  },
  {
   "cell_type": "markdown",
   "id": "b5378614",
   "metadata": {},
   "source": [
    "## 6. Related GoF patterns\n",
    "* **Strategy** – swap algorithms at runtime (shown above).\n",
    "* **Decorator** – dynamically add responsibilities.\n",
    "* **Template Method** – keep skeleton, vary steps.\n",
    "* **Factory Method / Abstract Factory** – create objects without binding to concretes."
   ]
  },
  {
   "cell_type": "markdown",
   "id": "825057f6",
   "metadata": {},
   "source": [
    "## 7. References\n",
    "* Bertrand Meyer, *Object‑Oriented Software Construction* (1988)\n",
    "* Robert C. Martin, *Agile Software Development: Principles, Patterns, and Practices* (2002)\n",
    "* https://principles.dev/#ocp"
   ]
  }
 ],
 "metadata": {
  "kernelspec": {
   "display_name": "TypeScript",
   "language": "typescript",
   "name": "tslab"
  },
  "language_info": {
   "codemirror_mode": {
    "mode": "typescript",
    "name": "javascript",
    "typescript": true
   },
   "file_extension": ".ts",
   "mimetype": "text/typescript",
   "name": "typescript",
   "version": "3.7.2"
  }
 },
 "nbformat": 4,
 "nbformat_minor": 5
}
