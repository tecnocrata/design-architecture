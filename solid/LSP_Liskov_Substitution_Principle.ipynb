{
 "cells": [
  {
   "cell_type": "markdown",
   "id": "dec47260",
   "metadata": {},
   "source": [
    "# Liskov Substitution Principle (LSP)\n",
    "\n",
    "> “Functions that use references to base classes must be able to use objects of derived classes without knowing it.” – Barbara Liskov"
   ]
  },
  {
   "cell_type": "markdown",
   "id": "c3621ff3",
   "metadata": {},
   "source": [
    "## 1. Concept\n",
    "* If **S** is a subtype of **T**, then objects of type **T** may be replaced with objects of type **S** **without altering program correctness**.\n",
    "* Sub‑classes must respect **all behavioral contracts** (pre‑conditions ≤, post‑conditions ≥, invariants same) declared by their parent."
   ]
  },
  {
   "cell_type": "markdown",
   "id": "965505dc",
   "metadata": {},
   "source": [
    "## 2. Problematic design that **breaks** LSP"
   ]
  },
  {
   "cell_type": "code",
   "execution_count": null,
   "id": "8498af34",
   "metadata": {
    "language": "typescript"
   },
   "outputs": [
    {
     "name": "stdout",
     "output_type": "stream",
     "text": [
      "Flapping wings and flying 🐦\n"
     ]
    },
    {
     "name": "stderr",
     "output_type": "stream",
     "text": [
      "evalmachine.<anonymous>:15\n",
      "        throw new Error(\"Penguins cannot fly!\");\n",
      "        ^\n",
      "\n",
      "Error: Penguins cannot fly!\n",
      "    at Penguin.fly (evalmachine.<anonymous>:15:15)\n",
      "    at showFlight (evalmachine.<anonymous>:20:10)\n",
      "    at evalmachine.<anonymous>:24:22\n",
      "    at evalmachine.<anonymous>:26:3\n",
      "    at sigintHandlersWrap (node:vm:260:12)\n",
      "    at Script.runInThisContext (node:vm:119:14)\n",
      "    at Object.runInThisContext (node:vm:297:38)\n",
      "    at Object.execute (/usr/lib/node_modules/tslab/dist/executor.js:160:38)\n",
      "    at JupyterHandlerImpl.handleExecuteImpl (/usr/lib/node_modules/tslab/dist/jupyter.js:250:38)\n",
      "    at /usr/lib/node_modules/tslab/dist/jupyter.js:208:57\n"
     ]
    }
   ],
   "source": [
    "// BAD: Penguin violates the contract promised by Bird.fly()\n",
    "class Bird {\n",
    "  fly(): void {\n",
    "    console.log(\"Flapping wings and flying 🐦\");\n",
    "  }\n",
    "}\n",
    "\n",
    "class Sparrow extends Bird { }\n",
    "\n",
    "class Penguin extends Bird {\n",
    "  fly(): void {\n",
    "    throw new Error(\"Penguins cannot fly!\");\n",
    "  }\n",
    "  \n",
    "  swim() {\n",
    "    console.log(\"Penguin swimming!\");\n",
    "  }\n",
    "}\n",
    "\n",
    "function showFlight(bird: Bird) {\n",
    "  bird.fly();        // caller trusts the Bird contract\n",
    "}\n",
    "\n",
    "showFlight(new Sparrow());  // ✅\n",
    "showFlight(new Penguin());  // ❌ runtime error"
   ]
  },
  {
   "cell_type": "markdown",
   "id": "d42b7c38",
   "metadata": {},
   "source": [
    "### Issues\n",
    "1. **Contract breach** – `Penguin.fly()` tightens pre‑conditions (requires ability to fly) and fails.\n",
    "2. Client code now needs `instanceof` checks or `try/catch`, leaking hierarchy details.\n",
    "3. Base type becomes unreliable; substitutability lost."
   ]
  },
  {
   "cell_type": "markdown",
   "id": "b9168599",
   "metadata": {},
   "source": [
    "## 3. Refactor preserving LSP\n",
    "Extract behaviour to an interface so only flying birds implement `Flyable`."
   ]
  },
  {
   "cell_type": "code",
   "execution_count": 2,
   "id": "bfcc1b7b",
   "metadata": {
    "language": "typescript"
   },
   "outputs": [
    {
     "name": "stdout",
     "output_type": "stream",
     "text": [
      "Sparrow flying!\n"
     ]
    }
   ],
   "source": [
    "interface Flyable {\n",
    "  fly(): void;\n",
    "}\n",
    "\n",
    "class BaseBird { /* common code */ }\n",
    "\n",
    "class Sparrow extends BaseBird implements Flyable {\n",
    "  fly() {\n",
    "    console.log(\"Sparrow flying!\");\n",
    "  }\n",
    "}\n",
    "\n",
    "// Here is the solution: Identify just the common features/behavior\n",
    "class Penguin extends BaseBird {\n",
    "  swim() {\n",
    "    console.log(\"Penguin swimming!\");\n",
    "  }\n",
    "}\n",
    "\n",
    "// Client depends on capability, not full hierarchy\n",
    "function showFlight(bird: Flyable) {\n",
    "  bird.fly();\n",
    "}\n",
    "\n",
    "showFlight(new Sparrow());     // ✅\n",
    "// showFlight(new Penguin());  // compile‑time error"
   ]
  },
  {
   "cell_type": "markdown",
   "id": "08ba5e34",
   "metadata": {},
   "source": [
    "### Benefits achieved\n",
    "* **Valid substitution** – only objects that honour the fly contract can be passed.\n",
    "* `Penguin` retains its identity without pretending to fly, preventing runtime failures.\n",
    "* Hierarchy coherence facilitates the Open/Closed Principle."
   ]
  },
  {
   "cell_type": "markdown",
   "id": "6ecf6ccd",
   "metadata": {},
   "source": [
    "## 4. Trade‑offs & Constraints\n",
    "* Potentially **more interfaces** → complexity if over‑segmented (Interface Segregation Principle helps).\n",
    "* Requires deliberate contract design and documentation.\n",
    "* Over‑reliance on inheritance can still cause fragile hierarchies; prefer composition when possible."
   ]
  },
  {
   "cell_type": "markdown",
   "id": "a1954282",
   "metadata": {},
   "source": [
    "## 5. Spotting LSP violations – quick checklist\n",
    "1. Derived class throws exceptions or returns `null` where the base guarantees a value.\n",
    "2. Sub‑class **requires more** (stronger pre‑conditions) or **delivers less** (weaker post‑conditions).\n",
    "3. Caller code contains `instanceof`, type casts, or `try/catch` for specific sub‑classes.\n",
    "4. Swapping parent for child in tests breaks assertions."
   ]
  },
  {
   "cell_type": "markdown",
   "id": "5098391d",
   "metadata": {},
   "source": [
    "## 6. Related GoF patterns\n",
    "* **Strategy** – favour composition of interchangeable algorithms over inheritance.\n",
    "* **State** – change behaviour by delegating to state objects rather than subclass overrides.\n",
    "* **Adapter** – wrap incompatible types instead of inheriting and risking contract violations."
   ]
  },
  {
   "cell_type": "markdown",
   "id": "3b04e3cd",
   "metadata": {},
   "source": [
    "## 7. References\n",
    "* Barbara Liskov & Jeannette Wing – *A Behavioral Notion of Subtyping* (1994)\n",
    "* Robert C. Martin – *Design Principles and Design Patterns* (2000)\n",
    "* https://principles.dev/#lsp"
   ]
  }
 ],
 "metadata": {
  "kernelspec": {
   "display_name": "TypeScript",
   "language": "typescript",
   "name": "tslab"
  },
  "language_info": {
   "codemirror_mode": {
    "mode": "typescript",
    "name": "javascript",
    "typescript": true
   },
   "file_extension": ".ts",
   "mimetype": "text/typescript",
   "name": "typescript",
   "version": "3.7.2"
  }
 },
 "nbformat": 4,
 "nbformat_minor": 5
}
