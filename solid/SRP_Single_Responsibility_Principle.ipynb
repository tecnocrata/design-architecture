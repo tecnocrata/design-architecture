{
 "cells": [
  {
   "cell_type": "markdown",
   "id": "9b6178e7",
   "metadata": {},
   "source": [
    "# Single Responsibility Principle (SRP)\n",
    "\n",
    "> “A class should have only one reason to change.” – Robert C. Martin"
   ]
  },
  {
   "cell_type": "markdown",
   "id": "88b8338d",
   "metadata": {},
   "source": [
    "## 1. Concept\n",
    "* A **single responsibility** means the class encapsulates one and only one **axis of change**.\n",
    "* Fewer responsibilities → higher cohesion and lower coupling."
   ]
  },
  {
   "cell_type": "markdown",
   "id": "4ea1454b",
   "metadata": {},
   "source": [
    "## 2. Problematic design without SRP"
   ]
  },
  {
   "cell_type": "code",
   "execution_count": 1,
   "id": "84393c22",
   "metadata": {
    "language": "typescript"
   },
   "outputs": [
    {
     "name": "stdout",
     "output_type": "stream",
     "text": [
      "Email sent to alice@example.com\n"
     ]
    }
   ],
   "source": [
    "// BAD: One class doing too many things\n",
    "class OrderService {\n",
    "  private db: Record<string, any>[] = [];\n",
    "\n",
    "  // 1. Business rule\n",
    "  calculateTotal(order: { items: { price: number; quantity: number }[] }): number {\n",
    "    return order.items.reduce((sum, i) => sum + i.price * i.quantity, 0);\n",
    "  }\n",
    "\n",
    "  // 2. Persistence\n",
    "  save(order: any) {\n",
    "    this.db.push(order);\n",
    "  }\n",
    "\n",
    "  // 3. External communication\n",
    "  sendConfirmationEmail(order: any) {\n",
    "    console.log(`Email sent to ${order.customerEmail}`);\n",
    "  }\n",
    "\n",
    "  process(order: any) {\n",
    "    order.total = this.calculateTotal(order);\n",
    "    this.save(order);\n",
    "    this.sendConfirmationEmail(order);\n",
    "  }\n",
    "}\n",
    "\n",
    "const service = new OrderService();\n",
    "service.process({\n",
    "  customerEmail: \"alice@example.com\",\n",
    "  items: [\n",
    "    { price: 10, quantity: 3 },\n",
    "    { price: 30, quantity: 1 }\n",
    "  ]\n",
    "});"
   ]
  },
  {
   "cell_type": "markdown",
   "id": "115bb7f9",
   "metadata": {},
   "source": [
    "### Why is this design fragile?\n",
    "* **Tight coupling**: business rules, persistence, and messaging are combined.\n",
    "* **Difficult to test**: you can’t unit‑test calculation without touching the console or fake DB.\n",
    "* **Hard to change**: a change in storage technology or email service forces editing this class."
   ]
  },
  {
   "cell_type": "markdown",
   "id": "d191fd6a",
   "metadata": {},
   "source": [
    "## 3. Applying SRP – refactor"
   ]
  },
  {
   "cell_type": "code",
   "execution_count": 2,
   "id": "7a6e208b",
   "metadata": {
    "language": "typescript"
   },
   "outputs": [
    {
     "name": "stdout",
     "output_type": "stream",
     "text": [
      "Sending email to alice@example.com: Your total is $60\n"
     ]
    }
   ],
   "source": [
    "// GOOD: each class handles one responsibility\n",
    "class OrderCalculator {\n",
    "  total(order: { items: { price: number; quantity: number }[] }): number {\n",
    "    return order.items.reduce((sum, i) => sum + i.price * i.quantity, 0);\n",
    "  }\n",
    "}\n",
    "\n",
    "class OrderRepository {\n",
    "  private db: Record<string, any>[] = [];\n",
    "  save(order: any) {\n",
    "    this.db.push(order);\n",
    "  }\n",
    "}\n",
    "\n",
    "class EmailService {\n",
    "  send(to: string, content: string) {\n",
    "    console.log(`Sending email to ${to}: ${content}`);\n",
    "  }\n",
    "}\n",
    "\n",
    "class OrderProcessor {\n",
    "  constructor(\n",
    "    private calculator: OrderCalculator,\n",
    "    private repo: OrderRepository,\n",
    "    private emailer: EmailService\n",
    "  ) {}\n",
    "\n",
    "  process(order: any) {\n",
    "    order.total = this.calculator.total(order);\n",
    "    this.repo.save(order);\n",
    "    this.emailer.send(order.customerEmail, `Your total is $${order.total}`);\n",
    "  }\n",
    "}\n",
    "\n",
    "const processor = new OrderProcessor(\n",
    "  new OrderCalculator(),\n",
    "  new OrderRepository(),\n",
    "  new EmailService()\n",
    ");\n",
    "\n",
    "processor.process({\n",
    "  customerEmail: \"alice@example.com\",\n",
    "  items: [\n",
    "    { price: 10, quantity: 3 },\n",
    "    { price: 30, quantity: 1 }\n",
    "  ]\n",
    "});"
   ]
  },
  {
   "cell_type": "markdown",
   "id": "4f2e1276",
   "metadata": {},
   "source": [
    "### Benefits achieved\n",
    "* **Isolated change**: storage or email mechanism can evolve independently.\n",
    "* **Testability**: calculator can be tested with pure data; repository/email can be mocked.\n",
    "* **Reusability**: the same `EmailService` can be reused by other features."
   ]
  },
  {
   "cell_type": "markdown",
   "id": "0d12e41b",
   "metadata": {},
   "source": [
    "## 4. Trade‑offs and limitations\n",
    "* **More classes & files** – mental overhead for small scripts.\n",
    "* **Requires composition** – you need a dependency‑injection pattern or manual wiring.\n",
    "* **Can be over‑applied** – splitting too early may lead to needless indirection."
   ]
  },
  {
   "cell_type": "markdown",
   "id": "0722be86",
   "metadata": {},
   "source": [
    "## 5. Checklist for spotting multiple responsibilities\n",
    "1. Does the class change for more than one stakeholder (e.g., DBA & UX team)?\n",
    "2. Does it read/write from more than one data source?\n",
    "3. Does it format UI and perform calculations?\n",
    "If **yes**—split!"
   ]
  },
  {
   "cell_type": "markdown",
   "id": "724bed58",
   "metadata": {},
   "source": [
    "## 6. References\n",
    "* Robert C. Martin, *Clean Architecture* (2017)\n",
    "* https://principles.dev\n",
    "* https://en.wikipedia.org/wiki/Single-responsibility_principle"
   ]
  }
 ],
 "metadata": {
  "kernelspec": {
   "display_name": "TypeScript",
   "language": "typescript",
   "name": "tslab"
  },
  "language_info": {
   "codemirror_mode": {
    "mode": "typescript",
    "name": "javascript",
    "typescript": true
   },
   "file_extension": ".ts",
   "mimetype": "text/typescript",
   "name": "typescript",
   "version": "3.7.2"
  }
 },
 "nbformat": 4,
 "nbformat_minor": 5
}
