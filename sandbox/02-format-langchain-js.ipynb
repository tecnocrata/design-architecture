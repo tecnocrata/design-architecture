{
 "cells": [
  {
   "cell_type": "code",
   "execution_count": null,
   "id": "941ca76d",
   "metadata": {},
   "outputs": [],
   "source": [
    "const { exec } = require(\"child_process\");\n",
    "\n",
    "exec(\"yarn install\", (error, stdout, stderr) => {\n",
    "    if (error) {\n",
    "        console.error(`Error: ${error.message}`);\n",
    "        return;\n",
    "    }\n",
    "    if (stderr) {\n",
    "        console.error(`Stderr: ${stderr}`);\n",
    "        return;\n",
    "    }\n",
    "    console.log(`Stdout: ${stdout}`);\n",
    "});"
   ]
  },
  {
   "cell_type": "code",
   "execution_count": 2,
   "id": "abe4ec5b",
   "metadata": {},
   "outputs": [],
   "source": [
    "import { ChatOpenAI } from \"@langchain/openai\";\n",
    "import dotenv from \"dotenv\";\n",
    "import {z} from \"zod\";"
   ]
  },
  {
   "cell_type": "code",
   "execution_count": 13,
   "id": "d2301e50",
   "metadata": {},
   "outputs": [],
   "source": [
    "dotenv. config();\n",
    "// we have connected to our gpt model\n",
    "const llm = new ChatOpenAI({\n",
    "    openAIApiKey: process.env.OPENAI_KEY,\n",
    "    modelName: \"gpt-3.5-turbo\",\n",
    "    temperature: 0.1,\n",
    "});"
   ]
  },
  {
   "cell_type": "code",
   "execution_count": 18,
   "id": "0efef3d0",
   "metadata": {},
   "outputs": [
    {
     "name": "stdout",
     "output_type": "stream",
     "text": [
      "{ country: 'Thailand', capital: 'Bangkok' }\n"
     ]
    }
   ],
   "source": [
    "const outputSchema = z.object({\n",
    "    country: z.string().describe(\"The country\"),\n",
    "    capital: z.string().describe(\"The capital of the country\")\n",
    "}); //.describe(\"The output of the model\");\n",
    "\n",
    "const llmWithJsonResponse = llm.withStructuredOutput(outputSchema)\n",
    "// we have a question\n",
    "const question = \"What is the capital of Thailand?\";\n",
    "// we are invoking the model\n",
    "const response = await llmWithJsonResponse.invoke(question);\n",
    "console.log (response);"
   ]
  }
 ],
 "metadata": {
  "kernelspec": {
   "display_name": "JavaScript",
   "language": "javascript",
   "name": "jslab"
  },
  "language_info": {
   "file_extension": ".js",
   "mimetype": "text/javascript",
   "name": "javascript",
   "version": ""
  }
 },
 "nbformat": 4,
 "nbformat_minor": 5
}
