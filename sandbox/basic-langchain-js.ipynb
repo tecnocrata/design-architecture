{
 "cells": [
  {
   "cell_type": "code",
   "execution_count": null,
   "id": "941ca76d",
   "metadata": {},
   "outputs": [],
   "source": [
    "const { exec } = require(\"child_process\");\n",
    "\n",
    "exec(\"yarn install\", (error, stdout, stderr) => {\n",
    "    if (error) {\n",
    "        console.error(`Error: ${error.message}`);\n",
    "        return;\n",
    "    }\n",
    "    if (stderr) {\n",
    "        console.error(`Stderr: ${stderr}`);\n",
    "        return;\n",
    "    }\n",
    "    console.log(`Stdout: ${stdout}`);\n",
    "});"
   ]
  },
  {
   "cell_type": "code",
   "execution_count": 1,
   "id": "abe4ec5b",
   "metadata": {},
   "outputs": [],
   "source": [
    "import { ChatOpenAI } from \"@langchain/openai\";\n",
    "import dotenv from \"dotenv\";"
   ]
  },
  {
   "cell_type": "code",
   "execution_count": 6,
   "id": "0efef3d0",
   "metadata": {},
   "outputs": [
    {
     "name": "stdout",
     "output_type": "stream",
     "text": [
      "AIMessage {\n",
      "  \"id\": \"chatcmpl-BUgEBg06bL58ADgltqd4yHSMTnjgp\",\n",
      "  \"content\": \"The capital of Thailand is Bangkok.\",\n",
      "  \"additional_kwargs\": {},\n",
      "  \"response_metadata\": {\n",
      "    \"tokenUsage\": {\n",
      "      \"promptTokens\": 14,\n",
      "      \"completionTokens\": 8,\n",
      "      \"totalTokens\": 22\n",
      "    },\n",
      "    \"finish_reason\": \"stop\",\n",
      "    \"model_name\": \"gpt-3.5-turbo-0125\"\n",
      "  },\n",
      "  \"tool_calls\": [],\n",
      "  \"invalid_tool_calls\": [],\n",
      "  \"usage_metadata\": {\n",
      "    \"output_tokens\": 8,\n",
      "    \"input_tokens\": 14,\n",
      "    \"total_tokens\": 22,\n",
      "    \"input_token_details\": {\n",
      "      \"audio\": 0,\n",
      "      \"cache_read\": 0\n",
      "    },\n",
      "    \"output_token_details\": {\n",
      "      \"audio\": 0,\n",
      "      \"reasoning\": 0\n",
      "    }\n",
      "  }\n",
      "}\n"
     ]
    }
   ],
   "source": [
    "dotenv. config();\n",
    "// we have connected to our gpt model\n",
    "const llm = new ChatOpenAI({\n",
    "    openAIApiKey: process.env.OPENAI_KEY,\n",
    "    modelName: \"gpt-3.5-turbo\",\n",
    "    temperature: 0.9,\n",
    "});\n",
    "// we have a question\n",
    "const question = \"What is the capital of Thailand?\";\n",
    "// we are invoking the model\n",
    "const response = await llm.invoke(question);\n",
    "console. log (response);"
   ]
  },
  {
   "cell_type": "code",
   "execution_count": 8,
   "id": "a2a31faf",
   "metadata": {},
   "outputs": [
    {
     "name": "stdout",
     "output_type": "stream",
     "text": [
      "Answer: The capital of Thailand is Bangkok.\n"
     ]
    }
   ],
   "source": [
    "console.log (\"Answer: \" + response.content);"
   ]
  }
 ],
 "metadata": {
  "kernelspec": {
   "display_name": "JavaScript",
   "language": "javascript",
   "name": "jslab"
  },
  "language_info": {
   "file_extension": ".js",
   "mimetype": "text/javascript",
   "name": "javascript",
   "version": ""
  }
 },
 "nbformat": 4,
 "nbformat_minor": 5
}
