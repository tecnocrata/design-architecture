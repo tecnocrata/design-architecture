{
 "cells": [
  {
   "cell_type": "markdown",
   "id": "c09d8a29",
   "metadata": {},
   "source": [
    "# Basic Answer & Question"
   ]
  },
  {
   "cell_type": "code",
   "execution_count": 20,
   "id": "301dd1aa",
   "metadata": {},
   "outputs": [],
   "source": [
    "from langchain_openai import ChatOpenAI  # Updated import\n",
    "from langchain.prompts import PromptTemplate\n",
    "# from langchain.chains import LLMChain\n",
    "from langchain_core.output_parsers import StrOutputParser\n",
    "import os"
   ]
  },
  {
   "cell_type": "code",
   "execution_count": 21,
   "id": "2ef832d8",
   "metadata": {},
   "outputs": [],
   "source": [
    "# Asegúrate de tener tu clave en la variable de entorno OPENAI_KEY\n",
    "os.environ[\"OPENAI_API_KEY\"] = os.getenv(\"OPENAI_KEY\")\n",
    "\n",
    "# 1. Definimos una plantilla de prompt\n",
    "prompt = PromptTemplate(\n",
    "    input_variables=[\"question\"],\n",
    "    template=\"Eres un asistente útil. Responde con claridad: {question}\"\n",
    ")"
   ]
  },
  {
   "cell_type": "code",
   "execution_count": 27,
   "id": "65895a03",
   "metadata": {},
   "outputs": [],
   "source": [
    "# 2. Inicializamos el modelo de OpenAI (puedes usar 'gpt-3.5-turbo' o 'gpt-4')\n",
    "llm = ChatOpenAI(temperature=0.7, model=\"gpt-3.5-turbo\")\n",
    "\n",
    "# 3. Creamos una LLMChain que combina prompt + modelo\n",
    "# chain = LLMChain(prompt=prompt, llm=llm)\n",
    "chain = prompt | llm #| StrOutputParser()\n"
   ]
  },
  {
   "cell_type": "code",
   "execution_count": 28,
   "id": "2d597277",
   "metadata": {},
   "outputs": [
    {
     "name": "stdout",
     "output_type": "stream",
     "text": [
      "🧠 Pregunta: ¿Qué es el la inteligencia artificial? Dame dos definiciones una practica (desde el punto de vista tecnico) y otra filosófica\n",
      "📨 Respuesta del modelo:\n",
      " content='Definición práctica: La inteligencia artificial es la simulación de procesos de inteligencia humana mediante la programación de algoritmos en sistemas informáticos, con el fin de realizar tareas que normalmente requieren de la intervención humana, como el aprendizaje, la toma de decisiones y la resolución de problemas.\\n\\nDefinición filosófica: La inteligencia artificial es una disciplina que busca crear máquinas capaces de imitar la inteligencia humana, lo que plantea preguntas éticas y filosóficas sobre la naturaleza de la mente, la conciencia y la existencia misma.' additional_kwargs={'refusal': None} response_metadata={'token_usage': {'completion_tokens': 141, 'prompt_tokens': 55, 'total_tokens': 196, 'completion_tokens_details': {'accepted_prediction_tokens': 0, 'audio_tokens': 0, 'reasoning_tokens': 0, 'rejected_prediction_tokens': 0}, 'prompt_tokens_details': {'audio_tokens': 0, 'cached_tokens': 0}}, 'model_name': 'gpt-3.5-turbo-0125', 'system_fingerprint': None, 'id': 'chatcmpl-BdfLrBtLyP91OhaKbQy18yxxsKbgb', 'service_tier': 'default', 'finish_reason': 'stop', 'logprobs': None} id='run--47b8c716-668b-483d-9a4b-a477a2a27465-0' usage_metadata={'input_tokens': 55, 'output_tokens': 141, 'total_tokens': 196, 'input_token_details': {'audio': 0, 'cache_read': 0}, 'output_token_details': {'audio': 0, 'reasoning': 0}}\n",
      "Solo respuesta: Definición práctica: La inteligencia artificial es la simulación de procesos de inteligencia humana mediante la programación de algoritmos en sistemas informáticos, con el fin de realizar tareas que normalmente requieren de la intervención humana, como el aprendizaje, la toma de decisiones y la resolución de problemas.\n",
      "\n",
      "Definición filosófica: La inteligencia artificial es una disciplina que busca crear máquinas capaces de imitar la inteligencia humana, lo que plantea preguntas éticas y filosóficas sobre la naturaleza de la mente, la conciencia y la existencia misma.\n"
     ]
    }
   ],
   "source": [
    "# 4. Ejecutamos una consulta\n",
    "question = \"¿Qué es el la inteligencia artificial? Dame dos definiciones una practica (desde el punto de vista tecnico) y otra filosófica\"\n",
    "response = chain.invoke(question)\n",
    "\n",
    "print(\"🧠 Pregunta:\", question)\n",
    "print(\"📨 Respuesta del modelo:\\n\", response)\n",
    "print(\"Solo respuesta:\", response.content)"
   ]
  }
 ],
 "metadata": {
  "kernelspec": {
   "display_name": "Python 3",
   "language": "python",
   "name": "python3"
  },
  "language_info": {
   "codemirror_mode": {
    "name": "ipython",
    "version": 3
   },
   "file_extension": ".py",
   "mimetype": "text/x-python",
   "name": "python",
   "nbconvert_exporter": "python",
   "pygments_lexer": "ipython3",
   "version": "3.10.17"
  }
 },
 "nbformat": 4,
 "nbformat_minor": 5
}
