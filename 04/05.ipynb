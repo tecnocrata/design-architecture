{
 "cells": [
  {
   "cell_type": "markdown",
   "id": "c55d44ff",
   "metadata": {},
   "source": [
    "# PDF Based RAG"
   ]
  },
  {
   "cell_type": "code",
   "execution_count": 1,
   "id": "f7eb114b",
   "metadata": {},
   "outputs": [],
   "source": [
    "import os\n",
    "from langchain_community.document_loaders import PyPDFLoader\n",
    "from langchain.text_splitter import RecursiveCharacterTextSplitter\n",
    "from langchain.vectorstores import Chroma\n",
    "from langchain.embeddings import OpenAIEmbeddings\n",
    "from langchain.chains import RetrievalQA\n",
    "from langchain_openai import ChatOpenAI"
   ]
  },
  {
   "cell_type": "code",
   "execution_count": 2,
   "id": "cd29aaec",
   "metadata": {},
   "outputs": [
    {
     "name": "stderr",
     "output_type": "stream",
     "text": [
      "Ignoring wrong pointing object 6 0 (offset 0)\n",
      "Ignoring wrong pointing object 11 0 (offset 0)\n",
      "/tmp/ipykernel_1111630/3768126232.py:13: LangChainDeprecationWarning: The class `OpenAIEmbeddings` was deprecated in LangChain 0.0.9 and will be removed in 1.0. An updated version of the class exists in the :class:`~langchain-openai package and should be used instead. To use it run `pip install -U :class:`~langchain-openai` and import as `from :class:`~langchain_openai import OpenAIEmbeddings``.\n",
      "  vectorstore = Chroma.from_documents(docs, OpenAIEmbeddings())\n"
     ]
    }
   ],
   "source": [
    "# Configurar la clave de API de OpenAI\n",
    "os.environ[\"OPENAI_API_KEY\"] = os.getenv(\"OPENAI_KEY\")\n",
    "\n",
    "# Cargar el PDF\n",
    "loader = PyPDFLoader(\"certifications.pdf\")\n",
    "documents = loader.load()\n",
    "\n",
    "# Dividir el texto en fragmentos\n",
    "text_splitter = RecursiveCharacterTextSplitter(chunk_size=500, chunk_overlap=50)\n",
    "docs = text_splitter.split_documents(documents)\n",
    "\n",
    "# Crear una base de datos vectorial\n",
    "vectorstore = Chroma.from_documents(docs, OpenAIEmbeddings())"
   ]
  },
  {
   "cell_type": "code",
   "execution_count": 3,
   "id": "762df159",
   "metadata": {},
   "outputs": [
    {
     "name": "stdout",
     "output_type": "stream",
     "text": [
      "Pregunta: ¿Qué certificaciones se mencionan en el documento?\n",
      "Respuesta: {'query': '¿Qué certificaciones se mencionan en el documento?', 'result': 'Las certificaciones mencionadas en el documento son las siguientes:\\n\\n1. AWS Certified AI Practitioner\\n2. JavaScript Certification'}\n"
     ]
    }
   ],
   "source": [
    "# Configurar el modelo de lenguaje\n",
    "llm = ChatOpenAI(model=\"gpt-3.5-turbo\", temperature=0)\n",
    "\n",
    "# Crear la cadena de preguntas y respuestas\n",
    "qa_chain = RetrievalQA.from_chain_type(llm=llm, retriever=vectorstore.as_retriever())\n",
    "\n",
    "# Realizar una consulta\n",
    "query = \"¿Qué certificaciones se mencionan en el documento?\"\n",
    "result = qa_chain.invoke(query)\n",
    "\n",
    "print(\"Pregunta:\", query)\n",
    "print(\"Respuesta:\", result)"
   ]
  }
 ],
 "metadata": {
  "kernelspec": {
   "display_name": "Python 3",
   "language": "python",
   "name": "python3"
  },
  "language_info": {
   "codemirror_mode": {
    "name": "ipython",
    "version": 3
   },
   "file_extension": ".py",
   "mimetype": "text/x-python",
   "name": "python",
   "nbconvert_exporter": "python",
   "pygments_lexer": "ipython3",
   "version": "3.10.17"
  }
 },
 "nbformat": 4,
 "nbformat_minor": 5
}
