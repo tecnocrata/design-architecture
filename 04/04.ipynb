{
 "cells": [
  {
   "cell_type": "markdown",
   "id": "34d3a01b",
   "metadata": {},
   "source": [
    "# Closed RAG"
   ]
  },
  {
   "cell_type": "code",
   "execution_count": 40,
   "id": "57cdfed6",
   "metadata": {},
   "outputs": [],
   "source": [
    "import os\n",
    "from langchain_community.document_loaders import TextLoader\n",
    "from langchain.text_splitter import RecursiveCharacterTextSplitter\n",
    "from langchain.vectorstores import Chroma\n",
    "from langchain.embeddings import OpenAIEmbeddings\n",
    "from langchain.chains import RetrievalQA\n",
    "from langchain_openai import ChatOpenAI\n",
    "from langchain.prompts import PromptTemplate"
   ]
  },
  {
   "cell_type": "code",
   "execution_count": 41,
   "id": "26877b69",
   "metadata": {},
   "outputs": [],
   "source": [
    "# Configurar la clave de API de OpenAI\n",
    "os.environ[\"OPENAI_API_KEY\"] = os.getenv(\"OPENAI_KEY\")\n",
    "\n",
    "# Cargar el archivo de texto\n",
    "loader = TextLoader(\"movies.txt\", encoding=\"utf-8\")\n",
    "documents = loader.load()\n",
    "\n",
    "# Dividir el texto en fragmentos\n",
    "text_splitter = RecursiveCharacterTextSplitter(chunk_size=300, chunk_overlap=50)\n",
    "docs = text_splitter.split_documents(documents)\n",
    "\n",
    "# Initialize embeddings (e.g., OpenAI)\n",
    "embeddings = OpenAIEmbeddings(\n",
    "    openai_api_key=os.getenv(\"OPENAI_KEY\"),\n",
    "    model=\"text-embedding-3-small\"\n",
    ")\n",
    "\n",
    "# Store embeddings in vector database (Chroma in-memory DB)\n",
    "vectorstore = Chroma.from_documents(docs, embeddings)"
   ]
  },
  {
   "cell_type": "code",
   "execution_count": 42,
   "id": "721c4e69",
   "metadata": {},
   "outputs": [],
   "source": [
    "# Define a custom prompt template that explicitly restricts the model\n",
    "prompt_template = \"\"\"You are an AI assistant that only knows information from the provided context. \n",
    "If information is not present in the context, respond with \"No tengo información sobre esto en mis documentos\" or \"No puedo responder a esta pregunta basado en la información disponible\".\n",
    "Do not use any prior knowledge.\n",
    "\n",
    "Context: {context}\n",
    "\n",
    "Question: {question}\n",
    "\n",
    "Answer:\"\"\"\n",
    "\n",
    "PROMPT = PromptTemplate(\n",
    "    template=prompt_template,\n",
    "    input_variables=[\"context\", \"question\"]\n",
    ")"
   ]
  },
  {
   "cell_type": "code",
   "execution_count": 43,
   "id": "73fc3d34",
   "metadata": {},
   "outputs": [],
   "source": [
    "# Configurar el modelo de lenguaje\n",
    "llm = ChatOpenAI(model=\"gpt-4o\", temperature=0.3)\n",
    "\n",
    "# Crear la cadena de preguntas y respuestas\n",
    "# qa_chain = RetrievalQA.from_chain_type(llm=llm, retriever=vectorstore.as_retriever())\n",
    "qa_chain = RetrievalQA.from_chain_type(\n",
    "    llm=llm,\n",
    "    chain_type=\"stuff\",  # \"stuff\" puts all retrieved docs in context at once\n",
    "    retriever=vectorstore.as_retriever(search_type=\"similarity\", search_kwargs={\"k\": 10}),\n",
    "    return_source_documents=True,\n",
    "    chain_type_kwargs={\n",
    "        \"prompt\": PROMPT,\n",
    "        \"verbose\": False,\n",
    "    }\n",
    ")"
   ]
  },
  {
   "cell_type": "code",
   "execution_count": 44,
   "id": "e00055e1",
   "metadata": {},
   "outputs": [
    {
     "name": "stdout",
     "output_type": "stream",
     "text": [
      "Pregunta: ¿Dame los titulos de peliculas que conozcas?\n",
      "Respuesta: {'query': '¿Dame los titulos de peliculas que conozcas?', 'result': '- Inception (2010)\\n- The Godfather (1972)\\n- Interstellar (2014)\\n- The Shawshank Redemption (1994)', 'source_documents': [Document(metadata={'source': 'movies.txt'}, page_content='⸻\\n\\nTitle: Inception (2010)\\nMovie Code: MOV-003'), Document(metadata={'source': 'movies.txt'}, page_content='⸻\\n\\nTitle: The Godfather (1972)\\nMovie Code: MOV-002'), Document(metadata={'source': 'movies.txt'}, page_content='Actors:\\n\\t•\\tMarlon Brando (Vito Corleone)\\n\\t•\\tAl Pacino (Michael Corleone)\\n\\t•\\tJames Caan (Sonny Corleone)\\n\\t•\\tRobert Duvall (Tom Hagen)\\n\\t•\\tDiane Keaton (Kay Adams)\\n\\n---\\n\\nTitle: Inception (2010)\\nMovie Code: MOV-003'), Document(metadata={'source': 'movies.txt'}, page_content='⸻\\n\\nTitle: Interstellar (2014)\\nMovie Code: MOV-004'), Document(metadata={'source': 'movies.txt'}, page_content='Actors:\\n\\t•\\tMarlon Brando (Vito Corleone)\\n\\t•\\tAl Pacino (Michael Corleone)\\n\\t•\\tJames Caan (Sonny Corleone)\\n\\t•\\tRobert Duvall (Tom Hagen)\\n\\t•\\tDiane Keaton (Kay Adams)\\n\\n---\\n\\nMovie Title: Inception (2010)\\nMovie Code: MOV-003'), Document(metadata={'source': 'movies.txt'}, page_content='Actors:\\n\\t•\\tMarlon Brando (Vito Corleone)\\n\\t•\\tAl Pacino (Michael Corleone)\\n\\t•\\tJames Caan (Sonny Corleone)\\n\\t•\\tRobert Duvall (Tom Hagen)\\n\\t•\\tDiane Keaton (Kay Adams)\\n\\n---\\n\\nMovie Title: Inception (2010)\\nMovie Code: MOV-003'), Document(metadata={'source': 'movies.txt'}, page_content='Actors:\\n\\t•\\tMarlon Brando (Vito Corleone)\\n\\t•\\tAl Pacino (Michael Corleone)\\n\\t•\\tJames Caan (Sonny Corleone)\\n\\t•\\tRobert Duvall (Tom Hagen)\\n\\t•\\tDiane Keaton (Kay Adams)\\n\\n---\\n\\nMovie Title: Inception (2010)\\nMovie Code: MOV-003'), Document(metadata={'source': 'movies.txt'}, page_content='Actors:\\n\\t•\\tTim Robbins (Andy Dufresne)\\n\\t•\\tMorgan Freeman (Ellis Boyd “Red” Redding)\\n\\t•\\tBob Gunton (Warden Norton)\\n\\t•\\tWilliam Sadler (Heywood)\\n\\n---\\n\\nTitle: The Godfather (1972)\\nMovie Code: MOV-002'), Document(metadata={'source': 'movies.txt'}, page_content='Movie Title: The Shawshank Redemption (1994)\\nMovie Code: MOV-001'), Document(metadata={'source': 'movies.txt'}, page_content='Movie Title: The Shawshank Redemption (1994)\\nMovie Code: MOV-001')]}\n"
     ]
    }
   ],
   "source": [
    "# Realizar una consulta\n",
    "query = \"¿Dame los titulos de peliculas que conozcas?\"\n",
    "result = qa_chain.invoke(query)\n",
    "\n",
    "print(\"Pregunta:\", query)\n",
    "print(\"Respuesta:\", result)"
   ]
  },
  {
   "cell_type": "code",
   "execution_count": 45,
   "id": "77bcbabc",
   "metadata": {},
   "outputs": [
    {
     "name": "stdout",
     "output_type": "stream",
     "text": [
      "Pregunta: ¿Que conoces de 'The Godfather'? Si es asi dame detalles de ella.\n",
      "Respuesta: Francis Ford Coppola’s iconic crime epic, \"The Godfather\" (1972), is based on Mario Puzo’s novel and delves into the compelling saga of the Corleone crime family. It portrays the patriarch, Vito Corleone, whose power and influence permeate the underworld of post-war America. No tengo información sobre los actores correctos en mis documentos.\n"
     ]
    }
   ],
   "source": [
    "# Realizar una consulta\n",
    "query = \"¿Que conoces de 'The Godfather'? Si es asi dame detalles de ella.\"\n",
    "result = qa_chain.invoke(query)\n",
    "\n",
    "print(\"Pregunta:\", query)\n",
    "print(\"Respuesta:\", result[\"result\"])"
   ]
  },
  {
   "cell_type": "code",
   "execution_count": 46,
   "id": "2f3637f0",
   "metadata": {},
   "outputs": [
    {
     "name": "stdout",
     "output_type": "stream",
     "text": [
      "Pregunta: ¿Cuándo se estrenó la primera película de Star Wars?\n",
      "Respuesta: No tengo información sobre esto en mis documentos.\n"
     ]
    }
   ],
   "source": [
    "# Realizar una consulta\n",
    "query = \"¿Cuándo se estrenó la primera película de Star Wars?\"\n",
    "result = qa_chain.invoke(query)\n",
    "\n",
    "print(\"Pregunta:\", query)\n",
    "print(\"Respuesta:\", result[\"result\"])"
   ]
  }
 ],
 "metadata": {
  "kernelspec": {
   "display_name": "Python 3",
   "language": "python",
   "name": "python3"
  },
  "language_info": {
   "codemirror_mode": {
    "name": "ipython",
    "version": 3
   },
   "file_extension": ".py",
   "mimetype": "text/x-python",
   "name": "python",
   "nbconvert_exporter": "python",
   "pygments_lexer": "ipython3",
   "version": "3.10.17"
  }
 },
 "nbformat": 4,
 "nbformat_minor": 5
}
