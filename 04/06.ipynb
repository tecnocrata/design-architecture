{
 "cells": [
  {
   "cell_type": "markdown",
   "id": "e44accb0",
   "metadata": {},
   "source": [
    "# Tool explicitly called"
   ]
  },
  {
   "cell_type": "code",
   "execution_count": 1,
   "id": "8ad6b878",
   "metadata": {},
   "outputs": [],
   "source": [
    "from datetime import datetime\n",
    "from langchain_core.tools import StructuredTool\n",
    "from langchain_openai import ChatOpenAI\n",
    "from langchain.prompts import ChatPromptTemplate, MessagesPlaceholder\n",
    "from langgraph.checkpoint.memory import MemorySaver\n",
    "from langchain_core.messages import AIMessage, HumanMessage, SystemMessage\n",
    "import os\n"
   ]
  },
  {
   "cell_type": "code",
   "execution_count": 2,
   "id": "c2eaa424",
   "metadata": {},
   "outputs": [],
   "source": [
    "# Asegúrate de tener tu clave en la variable de entorno OPENAI_KEY\n",
    "os.environ[\"OPENAI_API_KEY\"] = os.getenv(\"OPENAI_KEY\")\n",
    "\n",
    "# 1. Definir la función para obtener la fecha actual\n",
    "def get_current_date_tool():\n",
    "    \"\"\"Devuelve la fecha y hora actuales.\"\"\"\n",
    "    now = datetime.now()\n",
    "    return now.strftime(\"%A, %d de %B de %Y\")\n",
    "\n",
    "# 2. Crear la herramienta estructurada a partir de la función\n",
    "date_tool = StructuredTool.from_function(\n",
    "    func=get_current_date_tool,\n",
    "    name=\"get_current_date\",\n",
    "    description=\"Devuelve la fecha y hora actuales.\"\n",
    ")\n",
    "\n",
    "# 3. Inicializar el modelo de lenguaje\n",
    "model = ChatOpenAI(temperature=0.7)\n",
    "\n",
    "# 4. Crear un MemorySaver para el historial de la conversación\n",
    "memory = MemorySaver()\n",
    "\n",
    "# 5. Definir la plantilla de prompt\n",
    "prompt = ChatPromptTemplate.from_messages([\n",
    "    (\"system\", \"Eres un asistente conversacional amigable y útil.\"),\n",
    "    MessagesPlaceholder(variable_name=\"history\"),\n",
    "    (\"human\", \"{input}\")\n",
    "])"
   ]
  },
  {
   "cell_type": "code",
   "execution_count": 3,
   "id": "6d10234d",
   "metadata": {},
   "outputs": [],
   "source": [
    "# 6. Definir el estado inicial\n",
    "def get_state():\n",
    "    return {\"history\": []}\n",
    "\n",
    "# 7. Definir el paso de conversación\n",
    "def conversation_step(state, input):\n",
    "    # Obtener el historial de la conversación\n",
    "    history = state[\"history\"]\n",
    "    \n",
    "    # Formatear el input con el historial para el modelo\n",
    "    messages = prompt.format_messages(history=history, input=input)\n",
    "    \n",
    "    # Obtener la respuesta del modelo\n",
    "    response = model.invoke(messages)\n",
    "    \n",
    "    # Verificar si la respuesta contiene una solicitud para obtener la fecha actual\n",
    "    if \"¿Qué día es hoy?\" in input or \"¿Cuál es la fecha de hoy?\" in input:\n",
    "        # Usar la herramienta para obtener la fecha actual\n",
    "        current_date = date_tool.invoke({})\n",
    "        response = AIMessage(content=f\"La fecha de hoy es {current_date}.\")\n",
    "    \n",
    "    # Actualizar el historial con los nuevos mensajes\n",
    "    new_history = history + [HumanMessage(content=input), response]\n",
    "    \n",
    "    # Devolver el estado actualizado\n",
    "    return {\"history\": new_history, \"response\": response.content}"
   ]
  },
  {
   "cell_type": "code",
   "execution_count": 4,
   "id": "336b94a6",
   "metadata": {},
   "outputs": [
    {
     "name": "stdout",
     "output_type": "stream",
     "text": [
      "{'history': [HumanMessage(content='Hola, Mi nombre es Kike', additional_kwargs={}, response_metadata={}), AIMessage(content='¡Hola, Kike! ¡Es un placer conocerte! ¿En qué puedo ayudarte hoy?', additional_kwargs={'refusal': None}, response_metadata={'token_usage': {'completion_tokens': 21, 'prompt_tokens': 33, 'total_tokens': 54, 'completion_tokens_details': {'accepted_prediction_tokens': 0, 'audio_tokens': 0, 'reasoning_tokens': 0, 'rejected_prediction_tokens': 0}, 'prompt_tokens_details': {'audio_tokens': 0, 'cached_tokens': 0}}, 'model_name': 'gpt-3.5-turbo-0125', 'system_fingerprint': None, 'id': 'chatcmpl-BdRMNrNmA7ST0BdKRBix1sFUqxP64', 'service_tier': 'default', 'finish_reason': 'stop', 'logprobs': None}, id='run--3c161609-d74b-4459-9232-dabc45bc0154-0', usage_metadata={'input_tokens': 33, 'output_tokens': 21, 'total_tokens': 54, 'input_token_details': {'audio': 0, 'cache_read': 0}, 'output_token_details': {'audio': 0, 'reasoning': 0}})], 'response': '¡Hola, Kike! ¡Es un placer conocerte! ¿En qué puedo ayudarte hoy?'}\n",
      "La fecha de hoy es Sunday, 01 de June de 2025.\n",
      "¡Sí, claro! Tu nombre es Kike. ¿Hay algo más en lo que pueda ayudarte, Kike?\n"
     ]
    }
   ],
   "source": [
    "# Initialize state\n",
    "state = get_state()\n",
    "\n",
    "# Process first user input\n",
    "result = conversation_step(state, \"Hola, Mi nombre es Kike\")\n",
    "state = {\"history\": result[\"history\"]}  # Update state\n",
    "print(result)\n",
    "\n",
    "# Process follow-up question\n",
    "result = conversation_step(state, \"¿Qué día es hoy?\")\n",
    "# result = conversation_step(state, \"¿Quien descibrio el continente americano?\")\n",
    "state = {\"history\": result[\"history\"]}  # Update state\n",
    "print(result[\"response\"])\n",
    "\n",
    "# Process follow-up question\n",
    "result = conversation_step(state, \"¿Recuerdas como me llamo?\")\n",
    "state = {\"history\": result[\"history\"]}  # Update state\n",
    "print(result[\"response\"])"
   ]
  }
 ],
 "metadata": {
  "kernelspec": {
   "display_name": "Python 3",
   "language": "python",
   "name": "python3"
  },
  "language_info": {
   "codemirror_mode": {
    "name": "ipython",
    "version": 3
   },
   "file_extension": ".py",
   "mimetype": "text/x-python",
   "name": "python",
   "nbconvert_exporter": "python",
   "pygments_lexer": "ipython3",
   "version": "3.10.17"
  }
 },
 "nbformat": 4,
 "nbformat_minor": 5
}
