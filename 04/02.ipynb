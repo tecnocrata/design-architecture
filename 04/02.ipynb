{
 "cells": [
  {
   "cell_type": "markdown",
   "id": "cbde7a25",
   "metadata": {},
   "source": [
    "# Memory and Context"
   ]
  },
  {
   "cell_type": "code",
   "execution_count": 1,
   "id": "8ad6b878",
   "metadata": {},
   "outputs": [],
   "source": [
    "from langchain_openai import ChatOpenAI\n",
    "from langchain.prompts import ChatPromptTemplate, MessagesPlaceholder\n",
    "from langgraph.checkpoint.memory import MemorySaver\n",
    "import os\n",
    "from typing import Dict, List, Tuple\n",
    "from langchain_core.messages import AIMessage, HumanMessage, SystemMessage\n"
   ]
  },
  {
   "cell_type": "code",
   "execution_count": 2,
   "id": "c2eaa424",
   "metadata": {},
   "outputs": [],
   "source": [
    "# Ensure the OpenAI API key is set\n",
    "os.environ[\"OPENAI_API_KEY\"] = os.getenv(\"OPENAI_KEY\")\n",
    "\n",
    "# 1. Create a memory saver for conversation history\n",
    "memory = MemorySaver()\n",
    "\n",
    "# 2. Create chat model\n",
    "model = ChatOpenAI(temperature=0.7)\n",
    "\n",
    "# 3. Define the prompt template\n",
    "prompt = ChatPromptTemplate.from_messages([\n",
    "    (\"system\", \"Eres un asistente conversacional amigable y útil.\"),\n",
    "    MessagesPlaceholder(variable_name=\"history\"),\n",
    "    (\"human\", \"{input}\")\n",
    "])"
   ]
  },
  {
   "cell_type": "code",
   "execution_count": 3,
   "id": "6d10234d",
   "metadata": {},
   "outputs": [],
   "source": [
    "# 4. Define state\n",
    "def get_state():\n",
    "    return {\"history\": []}\n",
    "\n",
    "# 5. Define the conversation step\n",
    "def conversation_step(state, input):\n",
    "    # Get chat history from state\n",
    "    history = state[\"history\"]\n",
    "    \n",
    "    # Format input with history for the model\n",
    "    messages = prompt.format_messages(history=history, input=input)\n",
    "    \n",
    "    # Get response from model\n",
    "    response = model.invoke(messages)\n",
    "    \n",
    "    # Update history with new messages\n",
    "    new_history = history + [HumanMessage(content=input), response]\n",
    "    \n",
    "    # Return updated state\n",
    "    return {\"history\": new_history, \"response\": response.content}"
   ]
  },
  {
   "cell_type": "code",
   "execution_count": 4,
   "id": "336b94a6",
   "metadata": {},
   "outputs": [
    {
     "name": "stdout",
     "output_type": "stream",
     "text": [
      "{'history': [HumanMessage(content='Hola, Mi nombre es Kike', additional_kwargs={}, response_metadata={}), AIMessage(content='¡Hola Kike! ¡Es un placer conocerte! ¿En qué puedo ayudarte hoy?', additional_kwargs={'refusal': None}, response_metadata={'token_usage': {'completion_tokens': 20, 'prompt_tokens': 33, 'total_tokens': 53, 'completion_tokens_details': {'accepted_prediction_tokens': 0, 'audio_tokens': 0, 'reasoning_tokens': 0, 'rejected_prediction_tokens': 0}, 'prompt_tokens_details': {'audio_tokens': 0, 'cached_tokens': 0}}, 'model_name': 'gpt-3.5-turbo-0125', 'system_fingerprint': None, 'id': 'chatcmpl-Be8652PhYoQNjhDsGssPlrPi5bfzm', 'service_tier': 'default', 'finish_reason': 'stop', 'logprobs': None}, id='run--916225bd-e4e0-4c64-87e1-e23d9c4a036f-0', usage_metadata={'input_tokens': 33, 'output_tokens': 20, 'total_tokens': 53, 'input_token_details': {'audio': 0, 'cache_read': 0}, 'output_token_details': {'audio': 0, 'reasoning': 0}})], 'response': '¡Hola Kike! ¡Es un placer conocerte! ¿En qué puedo ayudarte hoy?'}\n",
      "Hoy es [fecha]. ¿Hay algo más en lo que pueda ayudarte?\n",
      "¡Claro que sí, Kike! ¿Hay algo más en lo que pueda ayudarte hoy?\n"
     ]
    }
   ],
   "source": [
    "# Initialize state\n",
    "state = get_state()\n",
    "\n",
    "# Process first user input\n",
    "result = conversation_step(state, \"Hola, Mi nombre es Kike\")\n",
    "state = {\"history\": result[\"history\"]}  # Update state\n",
    "print(result)\n",
    "\n",
    "# Process follow-up question\n",
    "result = conversation_step(state, \"¿Qué día es hoy?\")\n",
    "# result = conversation_step(state, \"¿Quien descibrio el continente americano?\")\n",
    "state = {\"history\": result[\"history\"]}  # Update state\n",
    "print(result[\"response\"])\n",
    "\n",
    "# Process follow-up question\n",
    "result = conversation_step(state, \"¿Recuerdas como me llamo?\")\n",
    "state = {\"history\": result[\"history\"]}  # Update state\n",
    "print(result[\"response\"])"
   ]
  }
 ],
 "metadata": {
  "kernelspec": {
   "display_name": "Python 3",
   "language": "python",
   "name": "python3"
  },
  "language_info": {
   "codemirror_mode": {
    "name": "ipython",
    "version": 3
   },
   "file_extension": ".py",
   "mimetype": "text/x-python",
   "name": "python",
   "nbconvert_exporter": "python",
   "pygments_lexer": "ipython3",
   "version": "3.10.17"
  }
 },
 "nbformat": 4,
 "nbformat_minor": 5
}
