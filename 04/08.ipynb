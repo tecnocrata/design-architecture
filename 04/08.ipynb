{
 "cells": [
  {
   "cell_type": "markdown",
   "id": "348c5e70",
   "metadata": {},
   "source": [
    "# Pipelining agents"
   ]
  },
  {
   "cell_type": "code",
   "execution_count": 21,
   "id": "1fd0941f",
   "metadata": {},
   "outputs": [],
   "source": [
    "from langchain_openai import ChatOpenAI\n",
    "from langchain.prompts import PromptTemplate\n",
    "from langchain.chains import SequentialChain\n",
    "from langchain_core.output_parsers import StrOutputParser\n",
    "from langchain_core.runnables import RunnableParallel, RunnablePassthrough\n",
    "import os"
   ]
  },
  {
   "cell_type": "code",
   "execution_count": null,
   "id": "c05b7b30",
   "metadata": {},
   "outputs": [],
   "source": [
    "# ──────────────────────────────────────────────────────────────────────────────\n",
    "# 1. Configuración de la API Key de OpenAI\n",
    "# ──────────────────────────────────────────────────────────────────────────────\n",
    "# Asegúrate de haber exportado tu clave en OPENAI_KEY:\n",
    "#   export OPENAI_KEY=\"tu_api_key_de_openai\"\n",
    "os.environ[\"OPENAI_API_KEY\"] = os.getenv(\"OPENAI_KEY\")\n",
    "\n",
    "# ──────────────────────────────────────────────────────────────────────────────\n",
    "# 2. Inicializar el modelo de lenguaje (ChatOpenAI)\n",
    "# ──────────────────────────────────────────────────────────────────────────────\n",
    "# Usamos 'gpt-3.5-turbo' con temperatura moderada (0.7) para equilibrio entre\n",
    "# coherencia y creatividad.  [oai_citation:4‡LangChain Python API](https://api.python.langchain.com/en/latest/chains/langchain.chains.sequential.SequentialChain.html?utm_source=chatgpt.com) [oai_citation:5‡Medium](https://medium.com/data-and-beyond/chains-in-langchain-part-1-040624795f91?utm_source=chatgpt.com)\n",
    "llm = ChatOpenAI(model=\"gpt-3.5-turbo\", temperature=0.7)\n",
    "\n",
    "# ──────────────────────────────────────────────────────────────────────────────\n",
    "# 3. Definir los prompts y LLMChain para cada paso del flujo\n",
    "# ──────────────────────────────────────────────────────────────────────────────\n",
    "\n",
    "# 3.1. Paso 1: Resumir el texto original\n",
    "# Input: {\"text\": \"<texto completo>\"}\n",
    "# Output: {\"summary\": \"<resumen>\"}\n",
    "summarize_prompt = PromptTemplate(\n",
    "    input_variables=[\"text\"],\n",
    "    template=(\n",
    "        \"Resume el siguiente texto en un párrafo breve y conciso:\\n\\n\"\n",
    "        \"{text}\\n\\n\"\n",
    "        \"Resumen:\"\n",
    "    )\n",
    ")\n",
    "# summarize_chain = LLMChain(\n",
    "#     llm=llm,\n",
    "#     prompt=summarize_prompt,\n",
    "#     output_key=\"summary\"\n",
    "# )  # El output_key define el nombre de la variable de salida para este paso  [oai_citation:6‡LangChain Python API](https://api.python.langchain.com/en/latest/chains/langchain.chains.sequential.SequentialChain.html?utm_source=chatgpt.com) [oai_citation:7‡Medium](https://medium.com/towards-agi/how-to-invoke-langchain-chains-step-by-step-examples-ad15abd7e784?utm_source=chatgpt.com)\n",
    "summarize_chain = RunnableParallel(\n",
    "    summary=(summarize_prompt | llm | StrOutputParser())\n",
    ")\n"
   ]
  },
  {
   "cell_type": "code",
   "execution_count": 23,
   "id": "8cdd9e33",
   "metadata": {},
   "outputs": [],
   "source": [
    "# 3.2. Paso 2: Traducir el resumen al inglés\n",
    "# Input: {\"summary\": \"<resumen>\"}\n",
    "# Output: {\"translation\": \"<traducción_al_inglés>\"}\n",
    "translate_prompt = PromptTemplate(\n",
    "    input_variables=[\"summary\"],\n",
    "    template=(\n",
    "        \"Traduce al inglés el siguiente resumen, cuidando la fidelidad al significado:\\n\\n\"\n",
    "        \"{summary}\\n\\n\"\n",
    "        \"Traducción:\"\n",
    "    )\n",
    ")\n",
    "translate_chain = RunnableParallel(\n",
    "    translation=(translate_prompt | llm | StrOutputParser())\n",
    ")"
   ]
  },
  {
   "cell_type": "code",
   "execution_count": 24,
   "id": "d1a15907",
   "metadata": {},
   "outputs": [],
   "source": [
    "# 3.3. Paso 3: Explicar la traducción a nivel de niño de 5 años\n",
    "# Input: {\"translation\": \"<texto_en_inglés>\"}\n",
    "# Output: {\"explanation\": \"<explicación_sencilla>\"}\n",
    "explain_prompt = PromptTemplate(\n",
    "    input_variables=[\"translation\"],\n",
    "    template=(\n",
    "        \"Explica este texto en inglés como si se lo contaras a un niño de 5 años, \"\n",
    "        \"usando ejemplos simples y lenguaje muy claro:\\n\\n\"\n",
    "        \"{translation}\\n\\n\"\n",
    "        \"Explicación:\"\n",
    "    )\n",
    ")\n",
    "\n",
    "explain_chain = RunnableParallel(\n",
    "    explanation=(explain_prompt | llm | StrOutputParser())\n",
    ")"
   ]
  },
  {
   "cell_type": "code",
   "execution_count": 26,
   "id": "b979c3d3",
   "metadata": {},
   "outputs": [
    {
     "name": "stdout",
     "output_type": "stream",
     "text": [
      "Resumen: {'text': 'La inteligencia artificial está revolucionando el mundo. Desde asistentes virtuales hasta diagnósticos médicos, su impacto es profundo y transformador.', 'summarize': {'summary': 'La inteligencia artificial está teniendo un impacto significativo en diversos ámbitos, desde la creación de asistentes virtuales hasta diagnósticos médicos, revolucionando el mundo y transformando la manera en que interactuamos con la tecnología y abordamos problemas de salud.'}, 'translate': {'translation': 'The artificial intelligence is having a significant impact in various fields, from the creation of virtual assistants to medical diagnoses, revolutionizing the world and transforming the way we interact with technology and address health problems.'}, 'explain': {'explanation': \"Imagine that there are really smart robots that can do lots of cool things. They can help us talk to our computers, like when we ask Siri a question. They can also help doctors figure out what's wrong with people by looking at pictures of their insides. These robots are changing the world and making it easier for us to use technology and stay healthy.\"}}\n",
      "Resumen: {'summary': 'La inteligencia artificial está teniendo un impacto significativo en diversos ámbitos, desde la creación de asistentes virtuales hasta diagnósticos médicos, revolucionando el mundo y transformando la manera en que interactuamos con la tecnología y abordamos problemas de salud.'}\n",
      "Traducción: {'translation': 'The artificial intelligence is having a significant impact in various fields, from the creation of virtual assistants to medical diagnoses, revolutionizing the world and transforming the way we interact with technology and address health problems.'}\n",
      "Explicación: {'explanation': \"Imagine that there are really smart robots that can do lots of cool things. They can help us talk to our computers, like when we ask Siri a question. They can also help doctors figure out what's wrong with people by looking at pictures of their insides. These robots are changing the world and making it easier for us to use technology and stay healthy.\"}\n"
     ]
    }
   ],
   "source": [
    "# ──────────────────────────────────────────────────────────────────────────────\n",
    "# 4. Combinar todos los pasos en un SequentialChain\n",
    "# ──────────────────────────────────────────────────────────────────────────────\n",
    "# Aquí usamos RunnableParallel para ejecutar los pasos en paralelo\n",
    "overall_chain = (\n",
    "    RunnablePassthrough.assign(\n",
    "        summarize = summarize_chain  # Takes 'text' from input, adds 'summarize' key with its string output\n",
    "    )\n",
    "    | RunnablePassthrough.assign(\n",
    "        translate = lambda x: translate_chain.invoke({\"summary\": x[\"summarize\"]}) # Takes 'summarize' from dict, adds 'translate' key\n",
    "    )\n",
    "    | RunnablePassthrough.assign(\n",
    "        explain = lambda x: explain_chain.invoke({\"translation\": x[\"translate\"]}) # Takes 'translate' from dict, adds 'explain' key\n",
    "    )\n",
    ")\n",
    "# ──────────────────────────────────────────────────────────────────────────────\n",
    "# 5. Ejecutar el flujo con un ejemplo de texto\n",
    "# ──────────────────────────────────────────────────────────────────────────────\n",
    "if __name__ == \"__main__\":\n",
    "    # Ejemplo de texto a procesar\n",
    "    input_text = (\n",
    "        \"La inteligencia artificial está revolucionando el mundo. \"\n",
    "        \"Desde asistentes virtuales hasta diagnósticos médicos, \"\n",
    "        \"su impacto es profundo y transformador.\"\n",
    "    )\n",
    "\n",
    "    # Ejecutar el flujo\n",
    "    result = overall_chain.invoke({\"text\": input_text})\n",
    "\n",
    "    # Mostrar los resultados\n",
    "    print(\"Resumen:\", result)\n",
    "    print(\"Resumen:\", result[\"summarize\"])\n",
    "    print(\"Traducción:\", result[\"translate\"])\n",
    "    print(\"Explicación:\", result[\"explain\"])"
   ]
  }
 ],
 "metadata": {
  "kernelspec": {
   "display_name": "Python 3",
   "language": "python",
   "name": "python3"
  },
  "language_info": {
   "codemirror_mode": {
    "name": "ipython",
    "version": 3
   },
   "file_extension": ".py",
   "mimetype": "text/x-python",
   "name": "python",
   "nbconvert_exporter": "python",
   "pygments_lexer": "ipython3",
   "version": "3.10.18"
  }
 },
 "nbformat": 4,
 "nbformat_minor": 5
}
