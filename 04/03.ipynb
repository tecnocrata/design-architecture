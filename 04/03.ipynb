{
 "cells": [
  {
   "cell_type": "code",
   "execution_count": 21,
   "id": "57cdfed6",
   "metadata": {},
   "outputs": [],
   "source": [
    "import os\n",
    "from langchain_community.document_loaders import TextLoader\n",
    "from langchain.text_splitter import RecursiveCharacterTextSplitter\n",
    "from langchain.vectorstores import Chroma\n",
    "from langchain.embeddings import OpenAIEmbeddings\n",
    "from langchain.chains import RetrievalQA\n",
    "from langchain_openai import ChatOpenAI"
   ]
  },
  {
   "cell_type": "code",
   "execution_count": 22,
   "id": "26877b69",
   "metadata": {},
   "outputs": [],
   "source": [
    "# Configurar la clave de API de OpenAI\n",
    "os.environ[\"OPENAI_API_KEY\"] = os.getenv(\"OPENAI_KEY\")\n",
    "\n",
    "# Cargar el archivo de texto\n",
    "loader = TextLoader(\"movies.txt\", encoding=\"utf-8\")\n",
    "documents = loader.load()\n",
    "\n",
    "# Dividir el texto en fragmentos\n",
    "text_splitter = RecursiveCharacterTextSplitter(chunk_size=100, chunk_overlap=20)\n",
    "docs = text_splitter.split_documents(documents)\n",
    "\n",
    "# Initialize embeddings (e.g., OpenAI)\n",
    "embeddings = OpenAIEmbeddings(\n",
    "    openai_api_key=os.getenv(\"OPENAI_KEY\"),\n",
    "    model=\"text-embedding-3-small\"\n",
    ")\n",
    "\n",
    "# Store embeddings in vector database (Chroma in-memory DB)\n",
    "vectorstore = Chroma.from_documents(docs, embeddings)"
   ]
  },
  {
   "cell_type": "code",
   "execution_count": 23,
   "id": "73fc3d34",
   "metadata": {},
   "outputs": [],
   "source": [
    "# Configurar el modelo de lenguaje\n",
    "llm = ChatOpenAI(model=\"gpt-4o\", temperature=0)\n",
    "\n",
    "# Crear la cadena de preguntas y respuestas\n",
    "qa_chain = RetrievalQA.from_chain_type(llm=llm, retriever=vectorstore.as_retriever())"
   ]
  },
  {
   "cell_type": "code",
   "execution_count": 24,
   "id": "e00055e1",
   "metadata": {},
   "outputs": [
    {
     "name": "stdout",
     "output_type": "stream",
     "text": [
      "Pregunta: ¿Que peliculas conoces?\n",
      "Respuesta: {'query': '¿Que peliculas conoces?', 'result': 'Conozco la película \"Inception\" de 2010, con el código de película MOV-003. Si tienes preguntas sobre esta película, estaré encantado de ayudarte.'}\n"
     ]
    }
   ],
   "source": [
    "# Realizar una consulta\n",
    "query = \"¿Que peliculas conoces?\"\n",
    "result = qa_chain.invoke(query)\n",
    "\n",
    "print(\"Pregunta:\", query)\n",
    "print(\"Respuesta:\", result)"
   ]
  },
  {
   "cell_type": "code",
   "execution_count": 19,
   "id": "77bcbabc",
   "metadata": {},
   "outputs": [
    {
     "name": "stdout",
     "output_type": "stream",
     "text": [
      "Pregunta: ¿Conoces la pelicula Parasite? Si es asi dame detalles de ella.\n",
      "Respuesta: {'query': '¿Conoces la pelicula Parasite? Si es asi dame detalles de ella.', 'result': 'Sí, conozco la película \"Parasite\" de 2019. Es una película dirigida por Bong Joon-ho que ofrece un comentario social incisivo sobre la disparidad económica. La película es conocida por su simbolismo profundo y su narrativa envolvente que explora las diferencias de clase y las tensiones entre dos familias de diferentes estratos sociales.'}\n"
     ]
    }
   ],
   "source": [
    "# Realizar una consulta\n",
    "query = \"¿Conoces la pelicula Parasite? Si es asi dame detalles de ella.\"\n",
    "result = qa_chain.invoke(query)\n",
    "\n",
    "print(\"Pregunta:\", query)\n",
    "print(\"Respuesta:\", result)"
   ]
  },
  {
   "cell_type": "code",
   "execution_count": 17,
   "id": "2f3637f0",
   "metadata": {},
   "outputs": [
    {
     "name": "stdout",
     "output_type": "stream",
     "text": [
      "Pregunta: ¿Cuándo se estrenó la primera película de Star Wars?\n",
      "Respuesta: {'query': '¿Cuándo se estrenó la primera película de Star Wars?', 'result': 'La primera película de Star Wars, conocida como \"Star Wars: Episode IV - A New Hope\", se estrenó el 25 de mayo de 1977.'}\n"
     ]
    }
   ],
   "source": [
    "# Realizar una consulta\n",
    "query = \"¿Cuándo se estrenó la primera película de Star Wars?\"\n",
    "result = qa_chain.invoke(query)\n",
    "\n",
    "print(\"Pregunta:\", query)\n",
    "print(\"Respuesta:\", result)"
   ]
  }
 ],
 "metadata": {
  "kernelspec": {
   "display_name": "Python 3",
   "language": "python",
   "name": "python3"
  },
  "language_info": {
   "codemirror_mode": {
    "name": "ipython",
    "version": 3
   },
   "file_extension": ".py",
   "mimetype": "text/x-python",
   "name": "python",
   "nbconvert_exporter": "python",
   "pygments_lexer": "ipython3",
   "version": "3.10.17"
  }
 },
 "nbformat": 4,
 "nbformat_minor": 5
}
