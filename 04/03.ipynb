{
 "cells": [
  {
   "cell_type": "markdown",
   "id": "79a83916",
   "metadata": {},
   "source": [
    "#Simple RAG"
   ]
  },
  {
   "cell_type": "code",
   "execution_count": 1,
   "id": "57cdfed6",
   "metadata": {},
   "outputs": [],
   "source": [
    "import os\n",
    "from langchain_community.document_loaders import TextLoader\n",
    "from langchain.text_splitter import RecursiveCharacterTextSplitter\n",
    "from langchain.vectorstores import Chroma\n",
    "from langchain.embeddings import OpenAIEmbeddings\n",
    "from langchain.chains import RetrievalQA\n",
    "from langchain_openai import ChatOpenAI"
   ]
  },
  {
   "cell_type": "code",
   "execution_count": 2,
   "id": "26877b69",
   "metadata": {},
   "outputs": [
    {
     "name": "stderr",
     "output_type": "stream",
     "text": [
      "/tmp/ipykernel_560325/1794769748.py:13: LangChainDeprecationWarning: The class `OpenAIEmbeddings` was deprecated in LangChain 0.0.9 and will be removed in 1.0. An updated version of the class exists in the :class:`~langchain-openai package and should be used instead. To use it run `pip install -U :class:`~langchain-openai` and import as `from :class:`~langchain_openai import OpenAIEmbeddings``.\n",
      "  embeddings = OpenAIEmbeddings(\n"
     ]
    }
   ],
   "source": [
    "# Configurar la clave de API de OpenAI\n",
    "os.environ[\"OPENAI_API_KEY\"] = os.getenv(\"OPENAI_KEY\")\n",
    "\n",
    "# Cargar el archivo de texto\n",
    "loader = TextLoader(\"movies.txt\", encoding=\"utf-8\")\n",
    "documents = loader.load()\n",
    "\n",
    "# Dividir el texto en fragmentos\n",
    "text_splitter = RecursiveCharacterTextSplitter(chunk_size=100, chunk_overlap=20)\n",
    "docs = text_splitter.split_documents(documents)\n",
    "\n",
    "# Initialize embeddings (e.g., OpenAI)\n",
    "embeddings = OpenAIEmbeddings(\n",
    "    openai_api_key=os.getenv(\"OPENAI_KEY\"),\n",
    "    model=\"text-embedding-3-small\"\n",
    ")\n",
    "\n",
    "# Store embeddings in vector database (Chroma in-memory DB)\n",
    "vectorstore = Chroma.from_documents(docs, embeddings)"
   ]
  },
  {
   "cell_type": "code",
   "execution_count": 3,
   "id": "73fc3d34",
   "metadata": {},
   "outputs": [],
   "source": [
    "# Configurar el modelo de lenguaje\n",
    "llm = ChatOpenAI(model=\"gpt-4o\", temperature=0)\n",
    "\n",
    "# Crear la cadena de preguntas y respuestas\n",
    "qa_chain = RetrievalQA.from_chain_type(llm=llm, retriever=vectorstore.as_retriever())"
   ]
  },
  {
   "cell_type": "code",
   "execution_count": 4,
   "id": "e00055e1",
   "metadata": {},
   "outputs": [
    {
     "name": "stdout",
     "output_type": "stream",
     "text": [
      "Pregunta: ¿Que peliculas conoces?\n",
      "Respuesta: {'query': '¿Que peliculas conoces?', 'result': 'Conozco las películas \"Inception\" (2010) y \"The Godfather\" (1972).'}\n"
     ]
    }
   ],
   "source": [
    "# Realizar una consulta\n",
    "query = \"¿Que peliculas conoces?\"\n",
    "result = qa_chain.invoke(query)\n",
    "\n",
    "print(\"Pregunta:\", query)\n",
    "print(\"Respuesta:\", result)"
   ]
  },
  {
   "cell_type": "code",
   "execution_count": null,
   "id": "77bcbabc",
   "metadata": {},
   "outputs": [
    {
     "name": "stdout",
     "output_type": "stream",
     "text": [
      "Pregunta: ¿Conoces la pelicula El padrino? Si es asi dame detalles de ella.\n",
      "Respuesta: Sí, conozco la película \"El Padrino\" (título original: \"The Godfather\"), que fue lanzada en 1972. Es un épico drama criminal dirigido por Francis Ford Coppola y basado en la novela de Mario Puzo. La película narra la historia de la familia criminal Corleone, centrándose en el patriarca Vito Corleone, interpretado por Marlon Brando, y su hijo Michael Corleone, interpretado por Al Pacino. Es una obra icónica que explora temas de poder, lealtad y traición dentro del mundo del crimen organizado.\n"
     ]
    }
   ],
   "source": [
    "# Realizar una consulta\n",
    "query = \"¿Conoces la pelicula Parasite? Si es asi dame detalles de ella.\"\n",
    "result = qa_chain.invoke(query)\n",
    "\n",
    "print(\"Pregunta:\", query)\n",
    "print(\"Respuesta:\", result[\"result\"])"
   ]
  },
  {
   "cell_type": "code",
   "execution_count": 8,
   "id": "2f3637f0",
   "metadata": {},
   "outputs": [
    {
     "name": "stdout",
     "output_type": "stream",
     "text": [
      "Pregunta: ¿Cuándo se estrenó la primera película de Star Wars?\n",
      "Respuesta: La primera película de Star Wars, conocida como \"Star Wars: Episode IV - A New Hope\", se estrenó el 25 de mayo de 1977.\n"
     ]
    }
   ],
   "source": [
    "# Realizar una consulta\n",
    "query = \"¿Cuándo se estrenó la primera película de Star Wars?\"\n",
    "result = qa_chain.invoke(query)\n",
    "\n",
    "print(\"Pregunta:\", query)\n",
    "print(\"Respuesta:\", result[\"result\"])"
   ]
  }
 ],
 "metadata": {
  "kernelspec": {
   "display_name": "Python 3",
   "language": "python",
   "name": "python3"
  },
  "language_info": {
   "codemirror_mode": {
    "name": "ipython",
    "version": 3
   },
   "file_extension": ".py",
   "mimetype": "text/x-python",
   "name": "python",
   "nbconvert_exporter": "python",
   "pygments_lexer": "ipython3",
   "version": "3.10.17"
  }
 },
 "nbformat": 4,
 "nbformat_minor": 5
}
