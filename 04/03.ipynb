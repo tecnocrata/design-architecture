{
 "cells": [
  {
   "cell_type": "markdown",
   "id": "79a83916",
   "metadata": {},
   "source": [
    "# Open RAG"
   ]
  },
  {
   "cell_type": "code",
   "execution_count": 17,
   "id": "57cdfed6",
   "metadata": {},
   "outputs": [],
   "source": [
    "import os\n",
    "from langchain_community.document_loaders import TextLoader\n",
    "from langchain.text_splitter import RecursiveCharacterTextSplitter\n",
    "from langchain.vectorstores import Chroma\n",
    "from langchain.embeddings import OpenAIEmbeddings\n",
    "from langchain.chains import RetrievalQA\n",
    "from langchain_openai import ChatOpenAI"
   ]
  },
  {
   "cell_type": "code",
   "execution_count": 18,
   "id": "26877b69",
   "metadata": {},
   "outputs": [],
   "source": [
    "# Configurar la clave de API de OpenAI\n",
    "os.environ[\"OPENAI_API_KEY\"] = os.getenv(\"OPENAI_KEY\")\n",
    "\n",
    "# Cargar el archivo de texto\n",
    "loader = TextLoader(\"movies.txt\", encoding=\"utf-8\")\n",
    "documents = loader.load()\n",
    "\n",
    "# Dividir el texto en fragmentos\n",
    "text_splitter = RecursiveCharacterTextSplitter(chunk_size=100, chunk_overlap=20)\n",
    "docs = text_splitter.split_documents(documents)\n",
    "\n",
    "# Initialize embeddings (e.g., OpenAI)\n",
    "embeddings = OpenAIEmbeddings(\n",
    "    openai_api_key=os.getenv(\"OPENAI_KEY\"),\n",
    "    model=\"text-embedding-3-small\"\n",
    ")\n",
    "\n",
    "# Store embeddings in vector database (Chroma in-memory DB)\n",
    "vectorstore = Chroma.from_documents(docs, embeddings)"
   ]
  },
  {
   "cell_type": "code",
   "execution_count": 19,
   "id": "b789b59a",
   "metadata": {},
   "outputs": [
    {
     "name": "stdout",
     "output_type": "stream",
     "text": [
      "Documento 1:\n",
      "Title: The Shawshank Redemption (1994)\n",
      "Movie Code: MOV-001\n",
      "--------------------------------------------------\n",
      "Documento 2:\n",
      "Description:\n",
      "--------------------------------------------------\n",
      "Documento 3:\n",
      "Adapted from Stephen King’s novella, Rita Hayworth and Shawshank Redemption, this film chronicles\n",
      "--------------------------------------------------\n",
      "Documento 4:\n",
      "film chronicles the life of Andy Dufresne, a banker wrongly convicted of murdering his wife and her\n",
      "--------------------------------------------------\n",
      "Documento 5:\n",
      "his wife and her lover. Andy finds himself in the brutal environment of Shawshank Prison, where he\n",
      "--------------------------------------------------\n",
      "Documento 6:\n",
      "Prison, where he befriends fellow inmate Red. Over two decades, Andy faces despair, abuse, and\n",
      "--------------------------------------------------\n",
      "Documento 1:\n",
      "[-0.04190804  0.02641674 -0.0229574  ... -0.02288752  0.02277104\n",
      " -0.02034834]\n",
      "--------------------------------------------------\n",
      "Documento 2:\n",
      "[ 0.00234283  0.03921207 -0.0168276  ... -0.03018607 -0.01317795\n",
      " -0.02189785]\n",
      "--------------------------------------------------\n",
      "Documento 3:\n",
      "[-0.00800293  0.03148769 -0.0011563  ... -0.02503978  0.00545965\n",
      " -0.03337877]\n",
      "--------------------------------------------------\n",
      "Documento 4:\n",
      "[-0.02759988  0.02450837 -0.0129152  ...  0.02603379 -0.00128199\n",
      " -0.0113186 ]\n",
      "--------------------------------------------------\n",
      "Documento 5:\n",
      "[-0.02071151 -0.00474178  0.00922773 ...  0.007902   -0.01011736\n",
      " -0.02381649]\n",
      "--------------------------------------------------\n",
      "Documento 6:\n",
      "[-0.04303427  0.0028545   0.03990805 ...  0.01567991 -0.01526471\n",
      "  0.01498384]\n",
      "--------------------------------------------------\n"
     ]
    }
   ],
   "source": [
    "# Recuperar los primeros 4 documentos almacenados\n",
    "resultados = vectorstore.get(limit=6, include=[\"embeddings\", \"documents\", \"metadatas\"])\n",
    "\n",
    "# Iterar sobre los documentos y mostrarlos\n",
    "for i, doc in enumerate(resultados[\"documents\"]):\n",
    "    print(f\"Documento {i+1}:\")\n",
    "    print(doc)\n",
    "    print(\"-\" * 50)\n",
    "\n",
    "# Iterar sobre los documentos y mostrarlos\n",
    "for i, doc in enumerate(resultados[\"embeddings\"]):\n",
    "    print(f\"Documento {i+1}:\")\n",
    "    print(doc)\n",
    "    print(\"-\" * 50)"
   ]
  },
  {
   "cell_type": "code",
   "execution_count": 3,
   "id": "73fc3d34",
   "metadata": {},
   "outputs": [],
   "source": [
    "# Configurar el modelo de lenguaje\n",
    "llm = ChatOpenAI(model=\"gpt-4o\", temperature=0)\n",
    "\n",
    "# Crear la cadena de preguntas y respuestas\n",
    "qa_chain = RetrievalQA.from_chain_type(llm=llm, retriever=vectorstore.as_retriever())"
   ]
  },
  {
   "cell_type": "code",
   "execution_count": 4,
   "id": "e00055e1",
   "metadata": {},
   "outputs": [
    {
     "name": "stdout",
     "output_type": "stream",
     "text": [
      "Pregunta: ¿Que peliculas conoces?\n",
      "Respuesta: {'query': '¿Que peliculas conoces?', 'result': 'Conozco las películas \"Inception\" (2010) y \"The Godfather\" (1972).'}\n"
     ]
    }
   ],
   "source": [
    "# Realizar una consulta\n",
    "query = \"¿Que peliculas conoces?\"\n",
    "result = qa_chain.invoke(query)\n",
    "\n",
    "print(\"Pregunta:\", query)\n",
    "print(\"Respuesta:\", result)"
   ]
  },
  {
   "cell_type": "code",
   "execution_count": 9,
   "id": "77bcbabc",
   "metadata": {},
   "outputs": [
    {
     "name": "stdout",
     "output_type": "stream",
     "text": [
      "Pregunta: ¿Conoces la pelicula El padrino? Si es asi dame detalles de ella.\n",
      "Respuesta: Sí, conozco la película \"El Padrino\" (título original: \"The Godfather\"), que fue lanzada en 1972. Es un épico drama criminal dirigido por Francis Ford Coppola y basado en la novela de Mario Puzo. La película narra la historia de la familia criminal Corleone, centrándose en el patriarca Vito Corleone, interpretado por Marlon Brando, y su hijo Michael Corleone, interpretado por Al Pacino. Es una obra icónica que explora temas de poder, lealtad y traición dentro del mundo del crimen organizado.\n"
     ]
    }
   ],
   "source": [
    "# Realizar una consulta\n",
    "query = \"¿Conoces la pelicula Parasite? Si es asi dame detalles de ella.\"\n",
    "result = qa_chain.invoke(query)\n",
    "\n",
    "print(\"Pregunta:\", query)\n",
    "print(\"Respuesta:\", result[\"result\"])"
   ]
  },
  {
   "cell_type": "code",
   "execution_count": 8,
   "id": "2f3637f0",
   "metadata": {},
   "outputs": [
    {
     "name": "stdout",
     "output_type": "stream",
     "text": [
      "Pregunta: ¿Cuándo se estrenó la primera película de Star Wars?\n",
      "Respuesta: La primera película de Star Wars, conocida como \"Star Wars: Episode IV - A New Hope\", se estrenó el 25 de mayo de 1977.\n"
     ]
    }
   ],
   "source": [
    "# Realizar una consulta\n",
    "query = \"¿Cuándo se estrenó la primera película de Star Wars?\"\n",
    "result = qa_chain.invoke(query)\n",
    "\n",
    "print(\"Pregunta:\", query)\n",
    "print(\"Respuesta:\", result[\"result\"])"
   ]
  }
 ],
 "metadata": {
  "kernelspec": {
   "display_name": "Python 3",
   "language": "python",
   "name": "python3"
  },
  "language_info": {
   "codemirror_mode": {
    "name": "ipython",
    "version": 3
   },
   "file_extension": ".py",
   "mimetype": "text/x-python",
   "name": "python",
   "nbconvert_exporter": "python",
   "pygments_lexer": "ipython3",
   "version": "3.10.17"
  }
 },
 "nbformat": 4,
 "nbformat_minor": 5
}
