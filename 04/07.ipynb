{
 "cells": [
  {
   "cell_type": "code",
   "execution_count": 51,
   "id": "235aa7c0",
   "metadata": {},
   "outputs": [],
   "source": [
    "from datetime import datetime\n",
    "import os\n",
    "\n",
    "from langchain.tools import tool  # Create tools with the decorator\n",
    "from langchain_openai import ChatOpenAI  # Chat model\n",
    "from langchain.agents import initialize_agent, AgentType  # Agent API\n",
    "from langchain.memory import ConversationBufferMemory  # Conversational memory"
   ]
  },
  {
   "cell_type": "code",
   "execution_count": 52,
   "id": "b8ade1b8",
   "metadata": {},
   "outputs": [],
   "source": [
    "os.environ[\"OPENAI_API_KEY\"] = os.getenv(\"OPENAI_KEY\")\n",
    "\n",
    "# ══════════════════════════════════════════════════════════════════════════════\n",
    "# 2. Definir la herramienta personalizada para obtener la fecha actual\n",
    "# ══════════════════════════════════════════════════════════════════════════════\n",
    "@tool\n",
    "def get_current_date(dummy_input: str = \"\") -> str:\n",
    "    \"\"\"\n",
    "    Devuelve la fecha y hora actuales en formato legible.\n",
    "    Esta herramienta no recibe argumentos y retorna un string.\n",
    "    \"\"\"\n",
    "    now = datetime.now()\n",
    "    # Ejemplo: \"viernes, 31 de mayo de 2025\"\n",
    "    return now.strftime(\"%A, %d de %B de %Y\")"
   ]
  },
  {
   "cell_type": "code",
   "execution_count": 53,
   "id": "137ad78a",
   "metadata": {},
   "outputs": [],
   "source": [
    "# ══════════════════════════════════════════════════════════════════════════════\n",
    "# 3. Inicializar el modelo de lenguaje\n",
    "# ══════════════════════════════════════════════════════════════════════════════\n",
    "# Usamos gpt-3.5-turbo con temperatura moderada\n",
    "llm = ChatOpenAI(model=\"gpt-3.5-turbo\", temperature=0.7) \n",
    "\n",
    "# ══════════════════════════════════════════════════════════════════════════════\n",
    "# 4. Configurar memoria para la conversación\n",
    "# ══════════════════════════════════════════════════════════════════════════════\n",
    "# ConversationBufferMemory almacena mensajes previos para que el agente conserve contexto.  [oai_citation:3‡LangChain](https://python.langchain.com/docs/versions/v0_3/?utm_source=chatgpt.com) [oai_citation:4‡LangChain Blog](https://blog.langchain.dev/structured-tools/?utm_source=chatgpt.com)\n",
    "memory = ConversationBufferMemory(memory_key=\"chat_history\", return_messages=True)\n",
    "\n",
    "# ══════════════════════════════════════════════════════════════════════════════\n",
    "# 5. Inicializar el agente con la herramienta y la memoria\n",
    "# ══════════════════════════════════════════════════════════════════════════════\n",
    "agent = initialize_agent(\n",
    "    tools=[get_current_date],  # Pasamos la lista de herramientas (en este caso, solo la de fecha)  [oai_citation:5‡GitHub](https://github.com/langchain-ai/langchain/issues/10582?utm_source=chatgpt.com) [oai_citation:6‡LangChain](https://python.langchain.com/docs/how_to/custom_tools/?utm_source=chatgpt.com)\n",
    "    llm=llm,\n",
    "    agent=AgentType.CHAT_ZERO_SHOT_REACT_DESCRIPTION,\n",
    "    memory=memory,\n",
    "    verbose=True  # Muestra en consola la lógica interna del agente\n",
    ")"
   ]
  },
  {
   "cell_type": "code",
   "execution_count": 56,
   "id": "c9daea90",
   "metadata": {},
   "outputs": [
    {
     "name": "stdout",
     "output_type": "stream",
     "text": [
      "Usuario: Hola, mi nombre es Kike.\n",
      "\n",
      "\n",
      "\u001b[1m> Entering new AgentExecutor chain...\u001b[0m\n",
      "\u001b[32;1m\u001b[1;3mQuestion: ¿Cómo puedo ayudarte hoy?\n",
      "Thought: Let's start by getting the current date and time.\n",
      "Action:\n",
      "```\n",
      "{\n",
      "  \"action\": \"get_current_date\",\n",
      "  \"action_input\": \"\"\n",
      "}\n",
      "``` \n",
      "\u001b[0m\n",
      "Observation: \u001b[36;1m\u001b[1;3mSunday, 01 de June de 2025\u001b[0m\n",
      "Thought:\u001b[32;1m\u001b[1;3mI have the current date and time. Let's continue with the conversation.\n",
      "\n",
      "Question: ¿Cómo puedo ayudarte hoy?\n",
      "Thought: I should ask the user for more information or clarify the request.\n",
      "Final Answer: I am here to help you with anything you need.\u001b[0m\n",
      "\n",
      "\u001b[1m> Finished chain.\u001b[0m\n",
      "Asistente: {'input': 'Hola, mi nombre es Kike.', 'chat_history': [HumanMessage(content='Hola, mi nombre es Kike.', additional_kwargs={}, response_metadata={}), AIMessage(content='Sunday, 01 de June de 2025', additional_kwargs={}, response_metadata={}), HumanMessage(content='Hola, mi nombre es Kike.', additional_kwargs={}, response_metadata={}), AIMessage(content='Sunday, 01 de June de 2025', additional_kwargs={}, response_metadata={}), HumanMessage(content='Hola, mi nombre es Kike.', additional_kwargs={}, response_metadata={}), AIMessage(content='I am here to help you with anything you need.', additional_kwargs={}, response_metadata={})], 'output': 'I am here to help you with anything you need.'} \n",
      "\n",
      "Usuario: ¿Qué día es hoy?\n",
      "\n",
      "\n",
      "\u001b[1m> Entering new AgentExecutor chain...\u001b[0m\n",
      "\u001b[32;1m\u001b[1;3mQuestion: ¿Qué día es hoy?\n",
      "Thought: I can use the tool get_current_date to find out today's date.\n",
      "Action:\n",
      "```\n",
      "{\n",
      "  \"action\": \"get_current_date\",\n",
      "  \"action_input\": \"\"\n",
      "}\n",
      "```\n",
      "\u001b[0m\n",
      "Observation: \u001b[36;1m\u001b[1;3mSunday, 01 de June de 2025\u001b[0m\n",
      "Thought:\u001b[32;1m\u001b[1;3mFinal Answer: Sunday, 01 de June de 2025\u001b[0m\n",
      "\n",
      "\u001b[1m> Finished chain.\u001b[0m\n",
      "Asistente: {'input': '¿Qué día es hoy?', 'chat_history': [HumanMessage(content='Hola, mi nombre es Kike.', additional_kwargs={}, response_metadata={}), AIMessage(content='Sunday, 01 de June de 2025', additional_kwargs={}, response_metadata={}), HumanMessage(content='Hola, mi nombre es Kike.', additional_kwargs={}, response_metadata={}), AIMessage(content='Sunday, 01 de June de 2025', additional_kwargs={}, response_metadata={}), HumanMessage(content='Hola, mi nombre es Kike.', additional_kwargs={}, response_metadata={}), AIMessage(content='I am here to help you with anything you need.', additional_kwargs={}, response_metadata={}), HumanMessage(content='¿Qué día es hoy?', additional_kwargs={}, response_metadata={}), AIMessage(content='Sunday, 01 de June de 2025', additional_kwargs={}, response_metadata={})], 'output': 'Sunday, 01 de June de 2025'} \n",
      "\n"
     ]
    }
   ],
   "source": [
    "# ══════════════════════════════════════════════════════════════════════════════\n",
    "# 6. Conversación de ejemplo\n",
    "# ══════════════════════════════════════════════════════════════════════════════\n",
    "# El agente decidirá, en tiempo de ejecución, si debe llamar a get_current_date.\n",
    "print(\"Usuario: Hola, mi nombre es Kike.\")\n",
    "response1 = agent.invoke(\"Hola, mi nombre es Kike.\")\n",
    "print(\"Asistente:\", response1, \"\\n\")\n",
    "\n",
    "print(\"Usuario: ¿Qué día es hoy?\")\n",
    "response2 = agent.invoke(\"¿Qué día es hoy?\")\n",
    "print(\"Asistente:\", response2, \"\\n\")\n",
    "\n",
    "# print(\"Usuario: ¿Recuerdas cómo me llamo?\")\n",
    "# response3 = agent.invoke(\"¿Recuerdas cómo me llamo?\")\n",
    "# print(\"Asistente:\", response3)"
   ]
  }
 ],
 "metadata": {
  "kernelspec": {
   "display_name": "Python 3",
   "language": "python",
   "name": "python3"
  },
  "language_info": {
   "codemirror_mode": {
    "name": "ipython",
    "version": 3
   },
   "file_extension": ".py",
   "mimetype": "text/x-python",
   "name": "python",
   "nbconvert_exporter": "python",
   "pygments_lexer": "ipython3",
   "version": "3.10.17"
  }
 },
 "nbformat": 4,
 "nbformat_minor": 5
}
