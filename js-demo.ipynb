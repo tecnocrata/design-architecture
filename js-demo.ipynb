{
  "cells": [
    {
      "cell_type": "code",
      "execution_count": 7,
      "metadata": {},
      "outputs": [
        {
          "name": "stdout",
          "output_type": "stream",
          "text": [
            "Hello, world!\n",
            "36\n",
            "The current date and time is (human readable and UTC-4 timezone): 4/16/2025, 9:39:25 PM\n"
          ]
        }
      ],
      "source": [
        "console.log(\"Hello, world!\");\n",
        "x = 16;\n",
        "y = 20;\n",
        "z = x + y;\n",
        "console.log(z);\n",
        "console.log(\"The current date and time is (human readable and UTC-4 timezone): \" + new Date().toLocaleString(\"en-US\", { timeZone: \"America/New_York\" }));\n"
      ]
    },
    {
      "cell_type": "code",
      "execution_count": 6,
      "metadata": {},
      "outputs": [
        {
          "name": "stdout",
          "output_type": "stream",
          "text": [
            "!dlrow ,olleH\n"
          ]
        }
      ],
      "source": [
        "// here we have a function that takes a string and returns the string reversed\n",
        "function reverseString(str) {\n",
        "    return str.split('').reverse().join('');\n",
        "}\n",
        "console.log(reverseString(\"Hello, world!\"));"
      ]
    },
    {
      "cell_type": "code",
      "execution_count": null,
      "metadata": {},
      "outputs": [],
      "source": []
    }
  ],
  "metadata": {
    "kernelspec": {
      "display_name": "JavaScript (Node.js)",
      "language": "javascript",
      "name": "javascript"
    },
    "language_info": {
      "file_extension": ".js",
      "mimetype": "application/javascript",
      "name": "javascript",
      "version": "18.20.8"
    }
  },
  "nbformat": 4,
  "nbformat_minor": 4
}
