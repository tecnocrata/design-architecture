{
 "cells": [
  {
   "cell_type": "markdown",
   "id": "e552eac6",
   "metadata": {},
   "source": [
    "# Devcontainer Testing Notebook\n",
    "\n",
    "This notebook demonstrates how to test a devcontainer configuration with multiple programming languages including Python, C#, and JavaScript."
   ]
  },
  {
   "cell_type": "markdown",
   "id": "fe170407",
   "metadata": {},
   "source": [
    "## Python Test Script\n",
    "\n",
    "Let's verify that Python is working correctly in our devcontainer."
   ]
  },
  {
   "cell_type": "code",
   "execution_count": 1,
   "id": "f9b0d4c3",
   "metadata": {},
   "outputs": [
    {
     "name": "stdout",
     "output_type": "stream",
     "text": [
      "Hello, Python!\n",
      "Python version: 3.10.12 (main, Feb  4 2025, 14:57:36) [GCC 11.4.0]\n",
      "NumPy version: 2.2.4\n",
      "Sample NumPy array: [1 2 3 4 5]\n"
     ]
    }
   ],
   "source": [
    "# Simple Python test\n",
    "print(\"Hello, Python!\")\n",
    "\n",
    "# Additional test to verify Python version and packages\n",
    "import sys\n",
    "print(f\"Python version: {sys.version}\")\n",
    "\n",
    "# Test numpy if available\n",
    "try:\n",
    "    import numpy as np\n",
    "    print(f\"NumPy version: {np.__version__}\")\n",
    "    print(\"Sample NumPy array:\", np.array([1, 2, 3, 4, 5]))\n",
    "except ImportError:\n",
    "    print(\"NumPy is not installed\")"
   ]
  },
  {
   "cell_type": "markdown",
   "id": "ccc36c11",
   "metadata": {},
   "source": [
    "## C# Test Script\n",
    "\n",
    "Let's verify that C# is working correctly in our devcontainer using the .NET Interactive kernel."
   ]
  },
  {
   "cell_type": "code",
   "execution_count": null,
   "id": "1512b379",
   "metadata": {
    "vscode": {
     "languageId": "csharp"
    }
   },
   "outputs": [
    {
     "ename": "SyntaxError",
     "evalue": "invalid syntax (2372086791.py, line 1)",
     "output_type": "error",
     "traceback": [
      "\u001b[0;36m  Cell \u001b[0;32mIn[2], line 1\u001b[0;36m\u001b[0m\n\u001b[0;31m    // Simple C# test\u001b[0m\n\u001b[0m    ^\u001b[0m\n\u001b[0;31mSyntaxError\u001b[0m\u001b[0;31m:\u001b[0m invalid syntax\n"
     ]
    }
   ],
   "source": [
    "// Simple C# test\n",
    "Console.WriteLine(\"Hello, C#!\");\n",
    "\n",
    "// Additional test to verify .NET version\n",
    "Console.WriteLine($\".NET version: {Environment.Version}\");\n",
    "\n",
    "// Create a simple list to test C# functionality\n",
    "var numbers = new List<int> { 1, 2, 3, 4, 5 };\n",
    "Console.WriteLine($\"Sample C# list: [{string.Join(\", \", numbers)}]\");"
   ]
  },
  {
   "cell_type": "markdown",
   "id": "b32bdddb",
   "metadata": {},
   "source": [
    "## JavaScript Test Script\n",
    "\n",
    "Let's verify that JavaScript is working correctly in our devcontainer."
   ]
  },
  {
   "cell_type": "code",
   "execution_count": 3,
   "id": "f3769246",
   "metadata": {
    "vscode": {
     "languageId": "javascript"
    }
   },
   "outputs": [
    {
     "ename": "SyntaxError",
     "evalue": "invalid syntax (1324796411.py, line 1)",
     "output_type": "error",
     "traceback": [
      "\u001b[0;36m  Cell \u001b[0;32mIn[3], line 1\u001b[0;36m\u001b[0m\n\u001b[0;31m    // Simple JavaScript test\u001b[0m\n\u001b[0m    ^\u001b[0m\n\u001b[0;31mSyntaxError\u001b[0m\u001b[0;31m:\u001b[0m invalid syntax\n"
     ]
    }
   ],
   "source": [
    "// Simple JavaScript test\n",
    "console.log(\"Hello, JavaScript!\");\n",
    "\n",
    "// Additional test to check JavaScript environment\n",
    "console.log(\"JavaScript version:\", process.version);\n",
    "\n",
    "// Test some ES6 features\n",
    "const numbers = [1, 2, 3, 4, 5];\n",
    "console.log(\"Sample JavaScript array:\", numbers);\n",
    "console.log(\"Doubled array:\", numbers.map(n => n * 2));"
   ]
  },
  {
   "cell_type": "markdown",
   "id": "5ac28a84",
   "metadata": {},
   "source": [
    "## Explanation of Separate Files\n",
    "\n",
    "While this notebook demonstrates all three languages in one place, for production use it's recommended to create separate files to test each language independently:\n",
    "\n",
    "1. **Python**: Create a `.py` file for Python tests\n",
    "2. **C#**: Create a `.cs` file for C# tests, or a `.csproj` file for a complete C# project\n",
    "3. **JavaScript**: Create a `.js` file for JavaScript tests\n",
    "\n",
    "This separation ensures that:\n",
    "\n",
    "- Each language can be tested in its native environment\n",
    "- Language-specific tools and debuggers work properly\n",
    "- The devcontainer configuration is correctly set up for each language's specific requirements\n",
    "- Different runtime versions don't interfere with each other\n",
    "\n",
    "For example, you might set up:\n",
    "- `test_python.py`\n",
    "- `test_csharp.cs`\n",
    "- `test_javascript.js`\n",
    "\n",
    "These files would contain the same test code shown in this notebook, but can be run with their native tools and debuggers."
   ]
  },
  {
   "cell_type": "markdown",
   "id": "a030fbc3",
   "metadata": {},
   "source": [
    "## Verifying Devcontainer Configuration\n",
    "\n",
    "To ensure your devcontainer is properly configured for all three languages, check for:\n",
    "\n",
    "1. **Python**:\n",
    "   - Python interpreter is installed and accessible\n",
    "   - Required packages are available\n",
    "   - No path or environment variable issues\n",
    "\n",
    "2. **C#**:\n",
    "   - .NET SDK is installed\n",
    "   - C# extension for VS Code is working\n",
    "   - Required NuGet packages are accessible\n",
    "\n",
    "3. **JavaScript**:\n",
    "   - Node.js is installed\n",
    "   - npm or yarn is available for package management\n",
    "   - Required npm packages are accessible\n",
    "\n",
    "If all the code cells in this notebook run successfully, your devcontainer is correctly configured for multiple language development!"
   ]
  },
  {
   "cell_type": "markdown",
   "id": "08f65ee7",
   "metadata": {},
   "source": [
    "# DevContainer Multi-Language Test\n",
    "\n",
    "This notebook tests if our devcontainer has the correct setup for multiple programming languages."
   ]
  },
  {
   "cell_type": "markdown",
   "id": "81f77fcc",
   "metadata": {},
   "source": [
    "## Python Test Script\n",
    "\n",
    "Below is a simple Python script to verify Python is working correctly in the devcontainer."
   ]
  },
  {
   "cell_type": "code",
   "execution_count": null,
   "id": "01427bb2",
   "metadata": {},
   "outputs": [],
   "source": [
    "# Simple Python test\n",
    "print(\"Hello, Python!\")\n",
    "\n",
    "# Additional test to verify key libraries are available\n",
    "import sys\n",
    "print(f\"Python version: {sys.version}\")\n",
    "\n",
    "# Try importing some common libraries\n",
    "try:\n",
    "    import numpy as np\n",
    "    import pandas as pd\n",
    "    print(\"NumPy and Pandas are available!\")\n",
    "except ImportError as e:\n",
    "    print(f\"Library import error: {e}\")"
   ]
  },
  {
   "cell_type": "markdown",
   "id": "45859093",
   "metadata": {},
   "source": [
    "## C# Test Script\n",
    "\n",
    "The following cell contains a simple C# script to verify C# is working in the devcontainer."
   ]
  },
  {
   "cell_type": "code",
   "execution_count": null,
   "id": "8440a841",
   "metadata": {},
   "outputs": [],
   "source": [
    "// Simple C# test\n",
    "using System;\n",
    "\n",
    "Console.WriteLine(\"Hello, C#!\");\n",
    "\n",
    "// Display .NET version info\n",
    "Console.WriteLine($\".NET version: {Environment.Version}\");"
   ]
  },
  {
   "cell_type": "markdown",
   "id": "37f48259",
   "metadata": {},
   "source": [
    "## JavaScript Test Script\n",
    "\n",
    "The cell below contains JavaScript code to verify JavaScript is working in the devcontainer."
   ]
  },
  {
   "cell_type": "code",
   "execution_count": null,
   "id": "aded0f11",
   "metadata": {
    "vscode": {
     "languageId": "javascript"
    }
   },
   "outputs": [],
   "source": [
    "// Simple JavaScript test\n",
    "console.log(\"Hello, JavaScript!\");\n",
    "\n",
    "// Display Node.js version (if in Node.js environment)\n",
    "console.log(`JavaScript runtime: ${typeof process !== 'undefined' ? process.version : 'browser'}`);\n",
    "\n",
    "// Additional test to check if common browser APIs are available\n",
    "try {\n",
    "    console.log(`Window object available: ${typeof window !== 'undefined'}`);\n",
    "} catch (e) {\n",
    "    console.log(\"Running in Node.js environment (no window object)\");\n",
    "}"
   ]
  },
  {
   "cell_type": "markdown",
   "id": "e7dcfcaa",
   "metadata": {},
   "source": [
    "## Explanation of Separate Files\n",
    "\n",
    "While this notebook contains cells for testing all three languages, it's generally a good practice to create separate files for each language when working in a devcontainer:\n",
    "\n",
    "1. **Separate language files:**\n",
    "   - `test.py` for Python code\n",
    "   - `test.cs` for C# code\n",
    "   - `test.js` for JavaScript code\n",
    "\n",
    "2. **Benefits of separate files:**\n",
    "   - Ensures proper syntax highlighting and IntelliSense for each language\n",
    "   - Allows language-specific debugging configurations\n",
    "   - Prevents language-specific extensions from interfering with each other\n",
    "   - Enables running with the appropriate language-specific runtime\n",
    "\n",
    "3. **Validation approach:**\n",
    "   - Run each file independently to ensure the devcontainer has the correct runtime and extensions\n",
    "   - Check for proper output and expected environment variables\n",
    "   - Verify that development tools like debuggers work correctly for each language\n",
    "\n",
    "Using this notebook alongside separate test files provides comprehensive validation that the devcontainer supports all required environments without interference."
   ]
  },
  {
   "cell_type": "markdown",
   "id": "f0194a4f",
   "metadata": {},
   "source": [
    "# Devcontainer Multi-Language Test\n",
    "\n",
    "This notebook demonstrates testing a devcontainer with multiple language support: Python, C#, and JavaScript."
   ]
  },
  {
   "cell_type": "markdown",
   "id": "ddd4d288",
   "metadata": {},
   "source": [
    "## Python Test Script"
   ]
  },
  {
   "cell_type": "code",
   "execution_count": null,
   "id": "e12ebfab",
   "metadata": {},
   "outputs": [],
   "source": [
    "# Basic Python test\n",
    "print(\"Hello, Python!\")\n",
    "\n",
    "# Perform a simple calculation\n",
    "result = 42 * 3.14\n",
    "print(f\"The answer is: {result}\")\n",
    "\n",
    "# Check Python version\n",
    "import sys\n",
    "print(f\"Python version: {sys.version}\")\n",
    "\n",
    "# Test numpy if available\n",
    "try:\n",
    "    import numpy as np\n",
    "    print(f\"NumPy version: {np.__version__}\")\n",
    "    arr = np.array([1, 2, 3, 4, 5])\n",
    "    print(f\"NumPy array mean: {arr.mean()}\")\n",
    "except ImportError:\n",
    "    print(\"NumPy is not installed\")"
   ]
  },
  {
   "cell_type": "markdown",
   "id": "d4da6774",
   "metadata": {},
   "source": [
    "## C# Test Script"
   ]
  },
  {
   "cell_type": "code",
   "execution_count": null,
   "id": "1cd46508",
   "metadata": {},
   "outputs": [],
   "source": [
    "// Basic C# test\n",
    "Console.WriteLine(\"Hello, C#!\");\n",
    "\n",
    "// Perform a simple calculation\n",
    "double result = 42 * 3.14;\n",
    "Console.WriteLine($\"The answer is: {result}\");\n",
    "\n",
    "// Check .NET version\n",
    "Console.WriteLine($\".NET version: {Environment.Version}\");\n",
    "\n",
    "// Test a simple class\n",
    "public class TestClass\n",
    "{\n",
    "    public string Message { get; set; }\n",
    "    \n",
    "    public TestClass(string message)\n",
    "    {\n",
    "        Message = message;\n",
    "    }\n",
    "    \n",
    "    public void DisplayMessage()\n",
    "    {\n",
    "        Console.WriteLine($\"Message: {Message}\");\n",
    "    }\n",
    "}\n",
    "\n",
    "var test = new TestClass(\"C# environment is working!\");\n",
    "test.DisplayMessage();"
   ]
  },
  {
   "cell_type": "markdown",
   "id": "4ad73e5a",
   "metadata": {},
   "source": [
    "## JavaScript Test Script"
   ]
  },
  {
   "cell_type": "code",
   "execution_count": null,
   "id": "1ea70876",
   "metadata": {
    "vscode": {
     "languageId": "javascript"
    }
   },
   "outputs": [],
   "source": [
    "// Basic JavaScript test\n",
    "console.log(\"Hello, JavaScript!\");\n",
    "\n",
    "// Perform a simple calculation\n",
    "const result = 42 * 3.14;\n",
    "console.log(`The answer is: ${result}`);\n",
    "\n",
    "// Check JavaScript environment\n",
    "console.log(`JavaScript runtime: ${typeof window !== 'undefined' ? 'Browser' : 'Node.js'}`);\n",
    "\n",
    "// Test a simple function\n",
    "function createGreeting(name) {\n",
    "    return `Greetings, ${name}! JavaScript environment is working!`;\n",
    "}\n",
    "\n",
    "const greeting = createGreeting(\"Developer\");\n",
    "console.log(greeting);\n",
    "\n",
    "// Test a simple object\n",
    "const testObject = {\n",
    "    name: \"JavaScript Test\",\n",
    "    version: 1.0,\n",
    "    isWorking: true,\n",
    "    displayInfo() {\n",
    "        console.log(`${this.name} v${this.version} - Working: ${this.isWorking}`);\n",
    "    }\n",
    "};\n",
    "\n",
    "testObject.displayInfo();"
   ]
  },
  {
   "cell_type": "markdown",
   "id": "2b32a302",
   "metadata": {},
   "source": [
    "## Explanation of Separate Files\n",
    "\n",
    "When working with multiple programming languages in a devcontainer, it's often beneficial to separate code by language into different files:\n",
    "\n",
    "1. **Isolation of Dependencies**: Each language has its own runtime and dependencies that shouldn't interfere with each other.\n",
    "\n",
    "2. **Appropriate File Extensions**: Using proper file extensions (`.py`, `.cs`, `.js`) ensures correct syntax highlighting and IDE features.\n",
    "\n",
    "3. **Language-Specific Configuration**: Each language might require different compiler/interpreter settings or environment variables.\n",
    "\n",
    "4. **Separate Build Steps**: Different languages typically have different build processes that are easier to manage in separate files.\n",
    "\n",
    "5. **IDE Integration**: Most IDEs and editors provide better language-specific features when code is in appropriate file types.\n",
    "\n",
    "While this notebook demonstrates that all three languages can run in a properly configured devcontainer, for a real project you would typically:\n",
    "\n",
    "* Create `*.py` files for Python code\n",
    "* Create `*.cs` files for C# code\n",
    "* Create `*.js` files for JavaScript code\n",
    "\n",
    "This ensures each language environment is properly configured and working independently within the devcontainer."
   ]
  },
  {
   "cell_type": "markdown",
   "id": "6d773ad6",
   "metadata": {},
   "source": [
    "# DevContainer Multi-Language Test Notebook\n",
    "\n",
    "This notebook demonstrates how to test if your devcontainer correctly supports multiple programming languages."
   ]
  },
  {
   "cell_type": "markdown",
   "id": "6638b992",
   "metadata": {},
   "source": [
    "## Python Test Script\n",
    "\n",
    "Let's verify that Python is working properly in our devcontainer environment."
   ]
  },
  {
   "cell_type": "code",
   "execution_count": null,
   "id": "b53d04c0",
   "metadata": {},
   "outputs": [],
   "source": [
    "# Simple Python test\n",
    "print(\"Hello, Python!\")\n",
    "\n",
    "# Additional test to verify Python environment\n",
    "import sys\n",
    "print(f\"Python version: {sys.version}\")\n",
    "print(f\"Python executable location: {sys.executable}\")"
   ]
  },
  {
   "cell_type": "markdown",
   "id": "746c8def",
   "metadata": {},
   "source": [
    "## C# Test Script\n",
    "\n",
    "Now let's test if C# is properly configured in our devcontainer."
   ]
  },
  {
   "cell_type": "code",
   "execution_count": null,
   "id": "bde2165e",
   "metadata": {},
   "outputs": [],
   "source": [
    "// Simple C# test\n",
    "using System;\n",
    "\n",
    "Console.WriteLine(\"Hello, C#!\");\n",
    "\n",
    "// Display more information about the C# environment\n",
    "Console.WriteLine($\".NET version: {Environment.Version}\");\n",
    "Console.WriteLine($\"OS: {Environment.OSVersion}\");"
   ]
  },
  {
   "cell_type": "markdown",
   "id": "fb1ac607",
   "metadata": {},
   "source": [
    "## JavaScript Test Script\n",
    "\n",
    "Finally, let's verify that JavaScript is working correctly in our devcontainer."
   ]
  },
  {
   "cell_type": "code",
   "execution_count": null,
   "id": "dac456de",
   "metadata": {
    "vscode": {
     "languageId": "javascript"
    }
   },
   "outputs": [],
   "source": [
    "// Simple JavaScript test\n",
    "console.log(\"Hello, JavaScript!\");\n",
    "\n",
    "// Additional test to verify JavaScript environment\n",
    "console.log(`Node.js version: ${process.version}`);\n",
    "console.log(`Platform: ${process.platform}`);"
   ]
  },
  {
   "cell_type": "markdown",
   "id": "50df1b69",
   "metadata": {},
   "source": [
    "## Explanation of Separate Files\n",
    "\n",
    "While this notebook demonstrates all three languages in one place, it's generally a good practice to create separate files for each language when working in a devcontainer:\n",
    "\n",
    "1. **Language-Specific Configuration**: Each language may require different settings and extensions.\n",
    "2. **Isolated Testing**: Issues with one language environment won't affect tests for other languages.\n",
    "3. **Proper Tooling**: Language-specific tools (linters, formatters, etc.) work better with dedicated files.\n",
    "4. **Debugging**: Debugging is typically more reliable when working with native file formats for each language.\n",
    "\n",
    "Suggested separate test files to create:\n",
    "- `python_test.py` - For testing Python configuration\n",
    "- `csharp_test.cs` - For testing C# configuration\n",
    "- `javascript_test.js` - For testing JavaScript configuration\n",
    "\n",
    "These separate files ensure each language environment is properly configured and working independently within the devcontainer."
   ]
  },
  {
   "cell_type": "markdown",
   "id": "35f71474",
   "metadata": {},
   "source": [
    "# DevContainer Test Notebook\n",
    "\n",
    "This notebook demonstrates how to test a development container (devcontainer) with multiple language environments: Python, C#, and JavaScript."
   ]
  },
  {
   "cell_type": "markdown",
   "id": "22a15980",
   "metadata": {},
   "source": [
    "## Python Test Script\n",
    "\n",
    "Let's start by testing the Python environment with a simple script."
   ]
  },
  {
   "cell_type": "code",
   "execution_count": null,
   "id": "9d45871d",
   "metadata": {},
   "outputs": [],
   "source": [
    "# Simple Python test\n",
    "print(\"Hello, Python!\")\n",
    "\n",
    "# Basic calculation\n",
    "a = 10\n",
    "b = 20\n",
    "result = a + b\n",
    "print(f\"The sum of {a} and {b} is {result}\")\n",
    "\n",
    "# Check Python version\n",
    "import sys\n",
    "print(f\"Python version: {sys.version}\")"
   ]
  },
  {
   "cell_type": "markdown",
   "id": "d881858d",
   "metadata": {},
   "source": [
    "## C# Test Script\n",
    "\n",
    "Now let's test the C# environment. Note that this requires the .NET kernel to be installed in your devcontainer."
   ]
  },
  {
   "cell_type": "code",
   "execution_count": null,
   "id": "a3f3de13",
   "metadata": {},
   "outputs": [],
   "source": [
    "// Simple C# test\n",
    "Console.WriteLine(\"Hello, C#!\");\n",
    "\n",
    "// Basic calculation\n",
    "int a = 10;\n",
    "int b = 20;\n",
    "int result = a + b;\n",
    "Console.WriteLine($\"The sum of {a} and {b} is {result}\");\n",
    "\n",
    "// Check .NET version\n",
    "Console.WriteLine($\".NET version: {Environment.Version}\");"
   ]
  },
  {
   "cell_type": "markdown",
   "id": "aa319236",
   "metadata": {},
   "source": [
    "## JavaScript Test Script\n",
    "\n",
    "Finally, let's test the JavaScript environment. This requires the JavaScript kernel to be installed in your devcontainer."
   ]
  },
  {
   "cell_type": "code",
   "execution_count": null,
   "id": "eec54516",
   "metadata": {
    "vscode": {
     "languageId": "javascript"
    }
   },
   "outputs": [],
   "source": [
    "// Simple JavaScript test\n",
    "console.log(\"Hello, JavaScript!\");\n",
    "\n",
    "// Basic calculation\n",
    "const a = 10;\n",
    "const b = 20;\n",
    "const result = a + b;\n",
    "console.log(`The sum of ${a} and ${b} is ${result}`);\n",
    "\n",
    "// Check Node.js version (if available)\n",
    "console.log(`Node.js version: ${process.version}`);"
   ]
  },
  {
   "cell_type": "markdown",
   "id": "506822c2",
   "metadata": {},
   "source": [
    "## Explanation of Separate Files\n",
    "\n",
    "While this notebook includes tests for all three languages, in a real-world scenario, you might want to create separate files for each language to ensure each environment is properly configured:\n",
    "\n",
    "1. **Python files** (`.py`) - For testing Python-specific functionality and dependencies\n",
    "2. **C# files** (`.cs`) - For testing C# functionality and .NET dependencies\n",
    "3. **JavaScript files** (`.js`) - For testing JavaScript/Node.js functionality and dependencies\n",
    "\n",
    "Creating separate files allows you to:\n",
    "\n",
    "- Test each language environment independently\n",
    "- Verify that all required language extensions are installed\n",
    "- Ensure that compilation/execution works correctly for each language\n",
    "- Validate that language-specific tools (linters, formatters, etc.) are functioning\n",
    "\n",
    "In a devcontainer, this separation helps ensure that the container is properly configured for all the languages your project requires."
   ]
  },
  {
   "cell_type": "markdown",
   "id": "a2615ef2",
   "metadata": {},
   "source": [
    "## Testing Completion Status\n",
    "\n",
    "Use this section to track which language environments have been successfully tested:\n",
    "\n",
    "- [ ] Python environment\n",
    "- [ ] C# environment\n",
    "- [ ] JavaScript environment"
   ]
  }
 ],
 "metadata": {
  "kernelspec": {
   "display_name": "Python 3",
   "language": "python",
   "name": "python3"
  },
  "language_info": {
   "codemirror_mode": {
    "name": "ipython",
    "version": 3
   },
   "file_extension": ".py",
   "mimetype": "text/x-python",
   "name": "python",
   "nbconvert_exporter": "python",
   "pygments_lexer": "ipython3",
   "version": "3.10.12"
  }
 },
 "nbformat": 4,
 "nbformat_minor": 5
}
