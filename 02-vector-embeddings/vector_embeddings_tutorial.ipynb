{
 "cells": [
  {
   "cell_type": "markdown",
   "id": "eddd25b7",
   "metadata": {},
   "source": [
    "# Tutorial de Vector Embeddings\n",
    "\n",
    "En este tutorial aprenderemos sobre vector embeddings, qué son, cómo funcionan y cómo podemos usarlos para encontrar similitudes entre textos."
   ]
  },
  {
   "cell_type": "code",
   "execution_count": 1,
   "id": "a0b238b4",
   "metadata": {},
   "outputs": [
    {
     "name": "stdout",
     "output_type": "stream",
     "text": [
      "Requirement already satisfied: openai==1.76.0 in /usr/local/lib/python3.10/site-packages (from -r requirements.txt (line 1)) (1.76.0)\n",
      "Requirement already satisfied: python-dotenv in /usr/local/lib/python3.10/site-packages (from -r requirements.txt (line 2)) (1.0.0)\n",
      "Requirement already satisfied: httpx==0.27.2 in /usr/local/lib/python3.10/site-packages (from -r requirements.txt (line 3)) (0.27.2)\n",
      "Requirement already satisfied: numpy==1.24.3 in /usr/local/lib/python3.10/site-packages (from -r requirements.txt (line 4)) (1.24.3)\n",
      "Requirement already satisfied: pandas==2.0.3 in /usr/local/lib/python3.10/site-packages (from -r requirements.txt (line 5)) (2.0.3)\n",
      "Requirement already satisfied: matplotlib==3.7.1 in /usr/local/lib/python3.10/site-packages (from -r requirements.txt (line 6)) (3.7.1)\n",
      "Requirement already satisfied: scikit-learn==1.4.0 in /usr/local/lib/python3.10/site-packages (from -r requirements.txt (line 7)) (1.4.0)\n",
      "Requirement already satisfied: pydantic<3,>=1.9.0 in /usr/local/lib/python3.10/site-packages (from openai==1.76.0->-r requirements.txt (line 1)) (2.11.3)\n",
      "Requirement already satisfied: distro<2,>=1.7.0 in /usr/local/lib/python3.10/site-packages (from openai==1.76.0->-r requirements.txt (line 1)) (1.9.0)\n",
      "Requirement already satisfied: typing-extensions<5,>=4.11 in /usr/local/lib/python3.10/site-packages (from openai==1.76.0->-r requirements.txt (line 1)) (4.13.2)\n",
      "Requirement already satisfied: anyio<5,>=3.5.0 in /usr/local/lib/python3.10/site-packages (from openai==1.76.0->-r requirements.txt (line 1)) (4.9.0)\n",
      "Requirement already satisfied: sniffio in /usr/local/lib/python3.10/site-packages (from openai==1.76.0->-r requirements.txt (line 1)) (1.3.1)\n",
      "Requirement already satisfied: tqdm>4 in /usr/local/lib/python3.10/site-packages (from openai==1.76.0->-r requirements.txt (line 1)) (4.67.1)\n",
      "Requirement already satisfied: jiter<1,>=0.4.0 in /usr/local/lib/python3.10/site-packages (from openai==1.76.0->-r requirements.txt (line 1)) (0.9.0)\n",
      "Requirement already satisfied: httpcore==1.* in /usr/local/lib/python3.10/site-packages (from httpx==0.27.2->-r requirements.txt (line 3)) (1.0.9)\n",
      "Requirement already satisfied: certifi in /usr/local/lib/python3.10/site-packages (from httpx==0.27.2->-r requirements.txt (line 3)) (2025.4.26)\n",
      "Requirement already satisfied: idna in /usr/local/lib/python3.10/site-packages (from httpx==0.27.2->-r requirements.txt (line 3)) (3.10)\n",
      "Requirement already satisfied: pytz>=2020.1 in /usr/local/lib/python3.10/site-packages (from pandas==2.0.3->-r requirements.txt (line 5)) (2025.2)\n",
      "Requirement already satisfied: python-dateutil>=2.8.2 in /usr/local/lib/python3.10/site-packages (from pandas==2.0.3->-r requirements.txt (line 5)) (2.9.0.post0)\n",
      "Requirement already satisfied: tzdata>=2022.1 in /usr/local/lib/python3.10/site-packages (from pandas==2.0.3->-r requirements.txt (line 5)) (2025.2)\n",
      "Requirement already satisfied: kiwisolver>=1.0.1 in /usr/local/lib/python3.10/site-packages (from matplotlib==3.7.1->-r requirements.txt (line 6)) (1.4.8)\n",
      "Requirement already satisfied: packaging>=20.0 in /usr/local/lib/python3.10/site-packages (from matplotlib==3.7.1->-r requirements.txt (line 6)) (24.2)\n",
      "Requirement already satisfied: contourpy>=1.0.1 in /usr/local/lib/python3.10/site-packages (from matplotlib==3.7.1->-r requirements.txt (line 6)) (1.3.2)\n",
      "Requirement already satisfied: pyparsing>=2.3.1 in /usr/local/lib/python3.10/site-packages (from matplotlib==3.7.1->-r requirements.txt (line 6)) (3.2.3)\n",
      "Requirement already satisfied: pillow>=6.2.0 in /usr/local/lib/python3.10/site-packages (from matplotlib==3.7.1->-r requirements.txt (line 6)) (11.2.1)\n",
      "Requirement already satisfied: cycler>=0.10 in /usr/local/lib/python3.10/site-packages (from matplotlib==3.7.1->-r requirements.txt (line 6)) (0.12.1)\n",
      "Requirement already satisfied: fonttools>=4.22.0 in /usr/local/lib/python3.10/site-packages (from matplotlib==3.7.1->-r requirements.txt (line 6)) (4.57.0)\n",
      "Requirement already satisfied: joblib>=1.2.0 in /usr/local/lib/python3.10/site-packages (from scikit-learn==1.4.0->-r requirements.txt (line 7)) (1.4.2)\n",
      "Requirement already satisfied: scipy>=1.6.0 in /usr/local/lib/python3.10/site-packages (from scikit-learn==1.4.0->-r requirements.txt (line 7)) (1.15.2)\n",
      "Requirement already satisfied: threadpoolctl>=2.0.0 in /usr/local/lib/python3.10/site-packages (from scikit-learn==1.4.0->-r requirements.txt (line 7)) (3.6.0)\n",
      "Requirement already satisfied: h11>=0.16 in /usr/local/lib/python3.10/site-packages (from httpcore==1.*->httpx==0.27.2->-r requirements.txt (line 3)) (0.16.0)\n",
      "Requirement already satisfied: exceptiongroup>=1.0.2 in /usr/local/lib/python3.10/site-packages (from anyio<5,>=3.5.0->openai==1.76.0->-r requirements.txt (line 1)) (1.2.2)\n",
      "Requirement already satisfied: pydantic-core==2.33.1 in /usr/local/lib/python3.10/site-packages (from pydantic<3,>=1.9.0->openai==1.76.0->-r requirements.txt (line 1)) (2.33.1)\n",
      "Requirement already satisfied: typing-inspection>=0.4.0 in /usr/local/lib/python3.10/site-packages (from pydantic<3,>=1.9.0->openai==1.76.0->-r requirements.txt (line 1)) (0.4.0)\n",
      "Requirement already satisfied: annotated-types>=0.6.0 in /usr/local/lib/python3.10/site-packages (from pydantic<3,>=1.9.0->openai==1.76.0->-r requirements.txt (line 1)) (0.7.0)\n",
      "Requirement already satisfied: six>=1.5 in /usr/local/lib/python3.10/site-packages (from python-dateutil>=2.8.2->pandas==2.0.3->-r requirements.txt (line 5)) (1.17.0)\n",
      "\u001b[33mWARNING: Running pip as the 'root' user can result in broken permissions and conflicting behaviour with the system package manager. It is recommended to use a virtual environment instead: https://pip.pypa.io/warnings/venv\u001b[0m\u001b[33m\n",
      "\u001b[0m\n",
      "\u001b[1m[\u001b[0m\u001b[34;49mnotice\u001b[0m\u001b[1;39;49m]\u001b[0m\u001b[39;49m A new release of pip is available: \u001b[0m\u001b[31;49m23.0.1\u001b[0m\u001b[39;49m -> \u001b[0m\u001b[32;49m25.0.1\u001b[0m\n",
      "\u001b[1m[\u001b[0m\u001b[34;49mnotice\u001b[0m\u001b[1;39;49m]\u001b[0m\u001b[39;49m To update, run: \u001b[0m\u001b[32;49mpip install --upgrade pip\u001b[0m\n",
      "Note: you may need to restart the kernel to use updated packages.\n"
     ]
    }
   ],
   "source": [
    "# Instalación de dependencias\n",
    "%pip install -r requirements.txt"
   ]
  },
  {
   "cell_type": "code",
   "execution_count": 2,
   "id": "23590172",
   "metadata": {
    "lines_to_next_cell": 1
   },
   "outputs": [],
   "source": [
    "# Importar librerías necesarias\n",
    "import numpy as np\n",
    "import pandas as pd\n",
    "import matplotlib.pyplot as plt\n",
    "from sklearn.decomposition import PCA\n",
    "import os\n",
    "from dotenv import load_dotenv\n",
    "import openai"
   ]
  },
  {
   "cell_type": "markdown",
   "id": "e0fca902",
   "metadata": {},
   "source": [
    "## 1. Similitud de Coseno\n",
    "\n",
    "La similitud de coseno es una medida que nos dice qué tan similares son dos vectores. Se calcula como el coseno del ángulo entre los vectores."
   ]
  },
  {
   "cell_type": "code",
   "execution_count": 3,
   "id": "38219df2",
   "metadata": {},
   "outputs": [
    {
     "name": "stdout",
     "output_type": "stream",
     "text": [
      "Similitud entre v1 y v2: 1.0\n",
      "Similitud entre v1 y v3: -1.0\n"
     ]
    }
   ],
   "source": [
    "def cosine_similarity(v1, v2):\n",
    "    \"\"\"Calcula la similitud de coseno entre dos vectores.\"\"\"\n",
    "    dot_product = np.dot(v1, v2)\n",
    "    magnitude_v1 = np.sqrt(np.sum(v1**2))\n",
    "    magnitude_v2 = np.sqrt(np.sum(v2**2))\n",
    "    \n",
    "    if magnitude_v1 == 0 or magnitude_v2 == 0:\n",
    "        return 0\n",
    "        \n",
    "    return dot_product / (magnitude_v1 * magnitude_v2)\n",
    "\n",
    "# Ejemplo de uso\n",
    "v1 = np.array([1, 2, 3])\n",
    "v2 = np.array([1, 2, 3])\n",
    "v3 = np.array([-1, -2, -3])\n",
    "\n",
    "print(f\"Similitud entre v1 y v2: {cosine_similarity(v1, v2)}\")\n",
    "print(f\"Similitud entre v1 y v3: {cosine_similarity(v1, v3)}\")"
   ]
  },
  {
   "cell_type": "markdown",
   "id": "28a4b480",
   "metadata": {},
   "source": [
    "## 2. Vector Embeddings con OpenAI\n",
    "\n",
    "Ahora vamos a usar el modelo text-embedding-3-small de OpenAI para generar embeddings de texto."
   ]
  },
  {
   "cell_type": "code",
   "execution_count": 5,
   "id": "06245059",
   "metadata": {
    "lines_to_next_cell": 1
   },
   "outputs": [
    {
     "name": "stdout",
     "output_type": "stream",
     "text": [
      "Using model gpt-4o\n"
     ]
    }
   ],
   "source": [
    "# Configurar el cliente de OpenAI\n",
    "load_dotenv(override=True)\n",
    "openai_host = os.getenv(\"OPENAI_HOST\", \"openai\")\n",
    "model_name = os.getenv(\"OPENAI_MODEL\", \"gpt-4o\")\n",
    "# print(f\"This is the key: {os.environ['OPENAI_KEY']}\")\n",
    "client = openai.OpenAI(\n",
    "        api_key=os.environ[\"OPENAI_KEY\"]\n",
    "    )\n",
    "\n",
    "print(f\"Using model {model_name}\")"
   ]
  },
  {
   "cell_type": "code",
   "execution_count": 6,
   "id": "ad1f63f3",
   "metadata": {
    "lines_to_next_cell": 1
   },
   "outputs": [],
   "source": [
    "def get_embedding(text):\n",
    "    \"\"\"Obtiene el embedding de un texto usando OpenAI.\"\"\"\n",
    "    response = client.embeddings.create(\n",
    "        model=\"text-embedding-3-small\",\n",
    "        input=text\n",
    "    )\n",
    "    return response.data[0].embedding"
   ]
  },
  {
   "cell_type": "code",
   "execution_count": 7,
   "id": "b174701f",
   "metadata": {},
   "outputs": [
    {
     "name": "stdout",
     "output_type": "stream",
     "text": [
      "Dimensión de los embeddings: 1536\n"
     ]
    }
   ],
   "source": [
    "# Frases de ejemplo\n",
    "frases = [\n",
    "    \"El Señor de los Anillos es una película de fantasía épica\",\n",
    "    \"Star Wars es una saga de ciencia ficción\",\n",
    "    \"El clima está muy agradable hoy\",\n",
    "    \"La Guerra de las Galaxias es una película de ciencia ficción\"\n",
    "]\n",
    "\n",
    "# Generar embeddings\n",
    "embeddings = [get_embedding(frase) for frase in frases]\n",
    "\n",
    "# Mostrar la dimensión de los embeddings\n",
    "print(f\"Dimensión de los embeddings: {len(embeddings[0])}\")"
   ]
  },
  {
   "cell_type": "code",
   "execution_count": null,
   "id": "b6c40800",
   "metadata": {
    "lines_to_next_cell": 0
   },
   "outputs": [],
   "source": []
  },
  {
   "cell_type": "markdown",
   "id": "95d71bfe",
   "metadata": {},
   "source": [
    "## 3. Comparando similitudes\n",
    "\n",
    "Vamos a comparar las similitudes entre las frases:"
   ]
  },
  {
   "cell_type": "code",
   "execution_count": 8,
   "id": "f3044fca",
   "metadata": {
    "lines_to_next_cell": 1
   },
   "outputs": [
    {
     "ename": "TypeError",
     "evalue": "unsupported operand type(s) for ** or pow(): 'list' and 'int'",
     "output_type": "error",
     "traceback": [
      "\u001b[0;31m---------------------------------------------------------------------------\u001b[0m",
      "\u001b[0;31mTypeError\u001b[0m                                 Traceback (most recent call last)",
      "Cell \u001b[0;32mIn[8], line 6\u001b[0m\n\u001b[1;32m      4\u001b[0m fila \u001b[38;5;241m=\u001b[39m []\n\u001b[1;32m      5\u001b[0m \u001b[38;5;28;01mfor\u001b[39;00m j, emb2 \u001b[38;5;129;01min\u001b[39;00m \u001b[38;5;28menumerate\u001b[39m(embeddings):\n\u001b[0;32m----> 6\u001b[0m     sim \u001b[38;5;241m=\u001b[39m \u001b[43mcosine_similarity\u001b[49m\u001b[43m(\u001b[49m\u001b[43memb1\u001b[49m\u001b[43m,\u001b[49m\u001b[43m \u001b[49m\u001b[43memb2\u001b[49m\u001b[43m)\u001b[49m\n\u001b[1;32m      7\u001b[0m     fila\u001b[38;5;241m.\u001b[39mappend(sim)\n\u001b[1;32m      8\u001b[0m similitudes\u001b[38;5;241m.\u001b[39mappend(fila)\n",
      "Cell \u001b[0;32mIn[3], line 4\u001b[0m, in \u001b[0;36mcosine_similarity\u001b[0;34m(v1, v2)\u001b[0m\n\u001b[1;32m      2\u001b[0m \u001b[38;5;250m\u001b[39m\u001b[38;5;124;03m\"\"\"Calcula la similitud de coseno entre dos vectores.\"\"\"\u001b[39;00m\n\u001b[1;32m      3\u001b[0m dot_product \u001b[38;5;241m=\u001b[39m np\u001b[38;5;241m.\u001b[39mdot(v1, v2)\n\u001b[0;32m----> 4\u001b[0m magnitude_v1 \u001b[38;5;241m=\u001b[39m np\u001b[38;5;241m.\u001b[39msqrt(np\u001b[38;5;241m.\u001b[39msum(\u001b[43mv1\u001b[49m\u001b[38;5;241;43m*\u001b[39;49m\u001b[38;5;241;43m*\u001b[39;49m\u001b[38;5;241;43m2\u001b[39;49m))\n\u001b[1;32m      5\u001b[0m magnitude_v2 \u001b[38;5;241m=\u001b[39m np\u001b[38;5;241m.\u001b[39msqrt(np\u001b[38;5;241m.\u001b[39msum(v2\u001b[38;5;241m*\u001b[39m\u001b[38;5;241m*\u001b[39m\u001b[38;5;241m2\u001b[39m))\n\u001b[1;32m      7\u001b[0m \u001b[38;5;28;01mif\u001b[39;00m magnitude_v1 \u001b[38;5;241m==\u001b[39m \u001b[38;5;241m0\u001b[39m \u001b[38;5;129;01mor\u001b[39;00m magnitude_v2 \u001b[38;5;241m==\u001b[39m \u001b[38;5;241m0\u001b[39m:\n",
      "\u001b[0;31mTypeError\u001b[0m: unsupported operand type(s) for ** or pow(): 'list' and 'int'"
     ]
    }
   ],
   "source": [
    "# Crear una matriz de similitud\n",
    "similitudes = []\n",
    "for i, emb1 in enumerate(embeddings):\n",
    "    fila = []\n",
    "    for j, emb2 in enumerate(embeddings):\n",
    "        sim = cosine_similarity(emb1, emb2)\n",
    "        fila.append(sim)\n",
    "    similitudes.append(fila)\n",
    "\n",
    "# Crear un DataFrame para visualizar mejor\n",
    "df_similitudes = pd.DataFrame(similitudes, \n",
    "                            index=frases, \n",
    "                            columns=frases)\n",
    "\n",
    "print(\"Matriz de similitud:\")\n",
    "df_similitudes"
   ]
  },
  {
   "cell_type": "code",
   "execution_count": null,
   "id": "42881283",
   "metadata": {
    "lines_to_next_cell": 0
   },
   "outputs": [],
   "source": []
  },
  {
   "cell_type": "markdown",
   "id": "7e220046",
   "metadata": {},
   "source": [
    "## 4. Búsqueda de similitud\n",
    "\n",
    "Vamos a crear una función que nos permita buscar las frases más similares a una consulta:"
   ]
  },
  {
   "cell_type": "code",
   "execution_count": null,
   "id": "457bf26d",
   "metadata": {
    "lines_to_next_cell": 1
   },
   "outputs": [],
   "source": [
    "def buscar_similares(consulta, frases, embeddings, top_n=3):\n",
    "    \"\"\"Busca las frases más similares a la consulta.\"\"\"\n",
    "    # Obtener embedding de la consulta\n",
    "    consulta_embedding = get_embedding(consulta)\n",
    "    \n",
    "    # Calcular similitudes\n",
    "    similitudes = []\n",
    "    for i, emb in enumerate(embeddings):\n",
    "        sim = cosine_similarity(consulta_embedding, emb)\n",
    "        similitudes.append((frases[i], sim))\n",
    "    \n",
    "    # Ordenar por similitud\n",
    "    similitudes.sort(key=lambda x: x[1], reverse=True)\n",
    "    \n",
    "    # Retornar las top_n más similares\n",
    "    return similitudes[:top_n]"
   ]
  },
  {
   "cell_type": "code",
   "execution_count": null,
   "id": "93dd474d",
   "metadata": {},
   "outputs": [],
   "source": [
    "# Ejemplo de búsqueda\n",
    "consulta = \"película de ciencia ficción\"\n",
    "resultados = buscar_similares(consulta, frases, embeddings)\n",
    "\n",
    "print(f\"Resultados para la consulta: '{consulta}'\")\n",
    "for frase, similitud in resultados:\n",
    "    print(f\"- {frase} (similitud: {similitud:.4f})\")"
   ]
  },
  {
   "cell_type": "code",
   "execution_count": null,
   "id": "262da5f7",
   "metadata": {
    "lines_to_next_cell": 0
   },
   "outputs": [],
   "source": []
  },
  {
   "cell_type": "markdown",
   "id": "4e1b9142",
   "metadata": {},
   "source": [
    "## 5. Visualización de embeddings\n",
    "\n",
    "Para visualizar los embeddings en 2D, podemos usar PCA (Principal Component Analysis):"
   ]
  },
  {
   "cell_type": "code",
   "execution_count": null,
   "id": "bdb302f0",
   "metadata": {},
   "outputs": [],
   "source": [
    "# Reducir a 2 dimensiones\n",
    "pca = PCA(n_components=2)\n",
    "embeddings_2d = pca.fit_transform(embeddings)\n",
    "\n",
    "# Crear el gráfico\n",
    "plt.figure(figsize=(10, 8))\n",
    "for i, (x, y) in enumerate(embeddings_2d):\n",
    "    plt.scatter(x, y)\n",
    "    plt.annotate(frases[i], (x, y))\n",
    "\n",
    "plt.title('Visualización 2D de los embeddings')\n",
    "plt.xlabel('Componente Principal 1')\n",
    "plt.ylabel('Componente Principal 2')\n",
    "plt.grid(True)\n",
    "plt.show()"
   ]
  },
  {
   "cell_type": "code",
   "execution_count": null,
   "id": "cf7a2cba",
   "metadata": {
    "lines_to_next_cell": 0
   },
   "outputs": [],
   "source": []
  },
  {
   "cell_type": "markdown",
   "id": "9a4a6fba",
   "metadata": {},
   "source": [
    "## Conclusión\n",
    "\n",
    "En este tutorial hemos aprendido:\n",
    "\n",
    "1. Qué son los vector embeddings y cómo se calcula la similitud entre ellos\n",
    "2. Cómo generar embeddings usando el modelo text-embedding-3-small de OpenAI\n",
    "3. Cómo comparar similitudes entre textos usando embeddings\n",
    "4. Cómo buscar textos similares a una consulta\n",
    "5. Cómo visualizar embeddings en 2D\n",
    "\n",
    "Los vector embeddings son una herramienta poderosa para trabajar con texto, permitiéndonos encontrar similitudes semánticas entre documentos, realizar búsquedas semánticas y mucho más. "
   ]
  }
 ],
 "metadata": {
  "jupytext": {
   "cell_metadata_filter": "-all",
   "main_language": "python",
   "notebook_metadata_filter": "-all"
  },
  "kernelspec": {
   "display_name": "Python 3",
   "language": "python",
   "name": "python3"
  },
  "language_info": {
   "codemirror_mode": {
    "name": "ipython",
    "version": 3
   },
   "file_extension": ".py",
   "mimetype": "text/x-python",
   "name": "python",
   "nbconvert_exporter": "python",
   "pygments_lexer": "ipython3",
   "version": "3.10.17"
  }
 },
 "nbformat": 4,
 "nbformat_minor": 5
}
