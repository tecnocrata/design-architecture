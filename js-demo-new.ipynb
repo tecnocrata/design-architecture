{
  "cells": [
    {
      "cell_type": "code",
      "execution_count": 3,
      "metadata": {},
      "outputs": [
        {
          "name": "stdout",
          "output_type": "stream",
          "text": [
            "Hello, world!\n",
            "36\n"
          ]
        }
      ],
      "source": [
        "console.log(\"Hello, world!\");\n",
        "x = 16;\n",
        "y = 20;\n",
        "z = x + y;\n",
        "console.log(z);\n"
      ]
    },
    {
      "cell_type": "code",
      "execution_count": null,
      "metadata": {},
      "outputs": [],
      "source": []
    }
  ],
  "metadata": {
    "kernelspec": {
      "display_name": "JavaScript (Node.js)",
      "language": "javascript",
      "name": "javascript"
    },
    "language_info": {
      "file_extension": ".js",
      "mimetype": "application/javascript",
      "name": "javascript",
      "version": "18.20.8"
    }
  },
  "nbformat": 4,
  "nbformat_minor": 4
}
