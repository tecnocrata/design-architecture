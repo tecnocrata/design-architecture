{
  "cells": [
    {
      "cell_type": "code",
      "execution_count": 2,
      "metadata": {},
      "outputs": [
        {
          "name": "stdout",
          "output_type": "stream",
          "text": [
            "Hello, world!\n",
            "36\n",
            "The current date and time is (human readable and UTC-4 timezone): 4/19/2025, 4:00:15 PM\n"
          ]
        }
      ],
      "source": [
        "console.log(\"Hello, world!\");\n",
        "const x = 16;\n",
        "const y = 20;\n",
        "const z = x + y;\n",
        "console.log(z);\n",
        "console.log(\"The current date and time is (human readable and UTC-4 timezone): \" + new Date().toLocaleString(\"en-US\", { timeZone: \"America/New_York\" }));\n"
      ]
    },
    {
      "cell_type": "code",
      "execution_count": 3,
      "metadata": {},
      "outputs": [
        {
          "name": "stdout",
          "output_type": "stream",
          "text": [
            "!dlrow ,olleH\n"
          ]
        }
      ],
      "source": [
        "// here we have a function that takes a string and returns the string reversed\n",
        "function reverseString(str) {\n",
        "    return str.split('').reverse().join('');\n",
        "}\n",
        "console.log(reverseString(\"Hello, world!\"));"
      ]
    },
    {
      "cell_type": "code",
      "execution_count": null,
      "metadata": {},
      "outputs": [],
      "source": []
    }
  ],
  "metadata": {
    "kernelspec": {
      "display_name": "TypeScript",
      "language": "typescript",
      "name": "tslab"
    },
    "language_info": {
      "codemirror_mode": {
        "mode": "typescript",
        "name": "javascript",
        "typescript": true
      },
      "file_extension": ".ts",
      "mimetype": "text/typescript",
      "name": "typescript",
      "version": "3.7.2"
    }
  },
  "nbformat": 4,
  "nbformat_minor": 4
}
